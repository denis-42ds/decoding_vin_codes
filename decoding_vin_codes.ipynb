{
 "cells": [
  {
   "cell_type": "markdown",
   "id": "4ebc8a6a-af22-4e7d-a814-c25685c4cf2f",
   "metadata": {},
   "source": [
    "# Расшифровка VIN-кодов автомобилей при помощи регулярных выражений\n",
    "\n",
    "**Описание проекта**\n",
    "Изучение информации, зашифрованной в VIN-кодах с целью прогнозирования цены.\n",
    "\n",
    "**Цель проекта**\n",
    "- Составление прогноза цен для автомобилей FORD на основании информации скрытой в VIN-кодах.\n",
    "\n",
    "**Задачи**\n",
    "- изучить структуру VIN-кода: какие информационные компоненты он содержит (регион, производитель, характеристики автомобиля и т. д.);\n",
    "- составлять регулярные выражения для поиска и извлечения конкретных частей VIN-кода, таких как производитель, модель и год выпуска;\n",
    "- распарсить текстовый массив данных с VIN-кодами и ценами;\n",
    "- решить задачу предсказания цены по VIN-коду.\n",
    "\n",
    "**Метрики**\n",
    "- `MSE`, `MAE`, `MAPE`\n",
    "\n",
    "**Ход исследования**\n",
    "- Ознакомление с данными;\n",
    "- ознакомление со способами кодирования данных в VIN-кодах;\n",
    "- составление паттерна для парсинга VIN-кодов;\n",
    "- проверка работоспособности паттерна;\n",
    "- парсинг VIN-кодов;\n",
    "- подготовка данных для модели;\n",
    "- обучение baseline модели;\n",
    "- обучение других моделей;\n",
    "- выбор лучшей модели;\n",
    "- проверка важности признаков;\n",
    "- заключение по исследованию.\n",
    "\n",
    "**Справочная информация**\n",
    "- https://docs.python.org/3/library/re.html\n",
    "- https://regex101.com\n",
    "- https://en.wikibooks.org/wiki/Vehicle_Identification_Numbers_(VIN_codes)#Table_of_Contents\n",
    "- https://en.wikibooks.org/wiki/Vehicle_Identification_Numbers_(VIN_codes)/World_Manufacturer_Identifier_(WMI)\n",
    "- https://en.wikibooks.org/wiki/Vehicle_Identification_Numbers_(VIN_codes)/Printable_version#Model#\n",
    "- https://en.wikipedia.org/wiki/List_of_Ford_factories\n",
    "\n",
    "**Форматы VIN-кодов**\n",
    "\n",
    "![варианты vin кодов](data/photo_5269222301897973406_x.jpg)"
   ]
  },
  {
   "cell_type": "markdown",
   "id": "f4cab216-63c3-4f01-bfd8-097a849f314b",
   "metadata": {},
   "source": [
    "Настройка среды"
   ]
  },
  {
   "cell_type": "code",
   "execution_count": 4,
   "id": "5f2d06d6-8e7b-4e6d-ae02-4137e3579c20",
   "metadata": {},
   "outputs": [],
   "source": [
    "# !pip freeze > requirements.txt"
   ]
  },
  {
   "cell_type": "code",
   "execution_count": 1,
   "id": "45a8c5a6-44c9-40c5-9c39-09c6e5fb5aa3",
   "metadata": {},
   "outputs": [],
   "source": [
    "import re\n",
    "import pandas as pd"
   ]
  },
  {
   "cell_type": "markdown",
   "id": "97e21132-ffa0-49b0-8c22-d3c434966b87",
   "metadata": {},
   "source": [
    "Установка глобальных переменных"
   ]
  },
  {
   "cell_type": "code",
   "execution_count": 2,
   "id": "6638043a-51af-4ecd-bd0c-bfdfce84bbe2",
   "metadata": {},
   "outputs": [],
   "source": [
    "RANDOM_STATE = 42\n",
    "DATA_PATH = 'data/vin_ford_train.txt'"
   ]
  },
  {
   "cell_type": "markdown",
   "id": "6fda7911-a9b3-4bf5-bbb6-3b30ae1460d4",
   "metadata": {},
   "source": [
    "## Знакомство с данными"
   ]
  },
  {
   "cell_type": "code",
   "execution_count": 3,
   "id": "3b43a6c9-af48-4c4c-b709-73f54f3ce6cc",
   "metadata": {},
   "outputs": [
    {
     "name": "stdout",
     "output_type": "stream",
     "text": [
      "[2FMDK3JC4BBA41556:12500]мой[3FA6P0H75ER208976:14500]дядя [3FAHP08Z17R268380:1300][1FMCU0GX3DUC59421:15200]самых [1FAHP2E89DG119368:11600] верных[1FM5K8D82DGA16143:26400][1FTFW1CFXCFC23663:14000][2FMDK3JC6CBA90002:19500][1FTFW1CT8DKD06233:24400][1FMZU64W13UC28949:2900][2FMDK3JC9DBB30736:23500][1FMCU9D76CKC49193:12700][1FMCU9EG2CKA90624:20700][1FMCU0JX7EUA28208:21300][2FMGK5D85EBD31213:26700][2FMDK\n"
     ]
    }
   ],
   "source": [
    "with open (DATA_PATH, 'r') as f:\n",
    "    data = f.read()\n",
    "print(data[:400])"
   ]
  },
  {
   "cell_type": "markdown",
   "id": "b393b99b-8f26-4273-99f9-389425152c08",
   "metadata": {},
   "source": [
    "### Выводы и наблюдения\n",
    "- исходя из условий задачи, необходимый вариант VIN-кодов - `American VIN format`;\n",
    "- в предоставленном файле VIN-коды находятся в неудобном для исследования формате:\n",
    "  - необходима очистка и преобразование;\n",
    "- помимо VIN-кодов в файле предоставлены цены."
   ]
  },
  {
   "cell_type": "markdown",
   "id": "d6730ee6-ef55-491a-809d-fc32c81ed1a8",
   "metadata": {},
   "source": [
    "## Подготовка паттерна\n",
    "В соответствии с правилами составления VIN-кодов для американских автомобилей:\n",
    "- современные VIN-коды состоят из 17 символов, которые не содержат букв I, O или Q;\n",
    "- `check digit` - 0-9 or X;\n",
    "- буквы U и Z и цифра 0 не используются для кода года;\n",
    "- позиции 13–17 должны быть цифрами, тогда как позиция 12 может быть буквой или цифрой"
   ]
  },
  {
   "cell_type": "markdown",
   "id": "721eee61-f15e-460b-8f31-88c799048d25",
   "metadata": {},
   "source": [
    "### Разрешённые в VIN-кодах символы"
   ]
  },
  {
   "cell_type": "code",
   "execution_count": 4,
   "id": "d10056f4-aea0-4387-83e3-3ff10eb069c9",
   "metadata": {},
   "outputs": [
    {
     "data": {
      "text/plain": [
       "'ABCDEFGHJKLMNPRSTUVWXYZ1234567890'"
      ]
     },
     "execution_count": 4,
     "metadata": {},
     "output_type": "execute_result"
    }
   ],
   "source": [
    "allowed = r'ABCDEFGHJKLMNPRSTUVWXYZ1234567890'\n",
    "allowed"
   ]
  },
  {
   "cell_type": "markdown",
   "id": "4d17dfb3-a2b4-4ef5-af8e-456c749c749e",
   "metadata": {},
   "source": [
    "### Тестовый образец"
   ]
  },
  {
   "cell_type": "code",
   "execution_count": 5,
   "id": "df4444b6-f814-414e-8303-447251e95187",
   "metadata": {},
   "outputs": [
    {
     "data": {
      "text/plain": [
       "'1FT7X2B6XCEB34867 1FTNF1CF4EKD18628 1GNKRFED3CJ319802 5N1BA08D49N601792 5TFHY5F19CX236781 JN1CV6AR7BM356524 ZFF65LJA9A0170669'"
      ]
     },
     "execution_count": 5,
     "metadata": {},
     "output_type": "execute_result"
    }
   ],
   "source": [
    "vin_sample = '1FT7X2B6XCEB34867 1FTNF1CF4EKD18628 1GNKRFED3CJ319802 5N1BA08D49N601792 5TFHY5F19CX236781 JN1CV6AR7BM356524 ZFF65LJA9A0170669'\n",
    "vin_sample"
   ]
  },
  {
   "cell_type": "markdown",
   "id": "8bfddfed-d313-419b-b12a-daa97a4fa3f0",
   "metadata": {},
   "source": [
    "### Северо-Американский формат VIN"
   ]
  },
  {
   "cell_type": "code",
   "execution_count": 13,
   "id": "c189ecf5-de5a-4abd-af4c-21d6f6d79adb",
   "metadata": {},
   "outputs": [
    {
     "data": {
      "text/html": [
       "<div>\n",
       "<style scoped>\n",
       "    .dataframe tbody tr th:only-of-type {\n",
       "        vertical-align: middle;\n",
       "    }\n",
       "\n",
       "    .dataframe tbody tr th {\n",
       "        vertical-align: top;\n",
       "    }\n",
       "\n",
       "    .dataframe thead th {\n",
       "        text-align: right;\n",
       "    }\n",
       "</style>\n",
       "<table border=\"1\" class=\"dataframe\">\n",
       "  <thead>\n",
       "    <tr style=\"text-align: right;\">\n",
       "      <th></th>\n",
       "      <th>wmi</th>\n",
       "      <th>brake</th>\n",
       "      <th>body</th>\n",
       "      <th>engine</th>\n",
       "      <th>check_digit</th>\n",
       "      <th>year</th>\n",
       "      <th>plant</th>\n",
       "      <th>snum</th>\n",
       "    </tr>\n",
       "  </thead>\n",
       "  <tbody>\n",
       "    <tr>\n",
       "      <th>0</th>\n",
       "      <td>1FT</td>\n",
       "      <td>7</td>\n",
       "      <td>X2B</td>\n",
       "      <td>6</td>\n",
       "      <td>X</td>\n",
       "      <td>C</td>\n",
       "      <td>E</td>\n",
       "      <td>B34867</td>\n",
       "    </tr>\n",
       "    <tr>\n",
       "      <th>1</th>\n",
       "      <td>1FT</td>\n",
       "      <td>N</td>\n",
       "      <td>F1C</td>\n",
       "      <td>F</td>\n",
       "      <td>4</td>\n",
       "      <td>E</td>\n",
       "      <td>K</td>\n",
       "      <td>D18628</td>\n",
       "    </tr>\n",
       "    <tr>\n",
       "      <th>2</th>\n",
       "      <td>1GN</td>\n",
       "      <td>K</td>\n",
       "      <td>RFE</td>\n",
       "      <td>D</td>\n",
       "      <td>3</td>\n",
       "      <td>C</td>\n",
       "      <td>J</td>\n",
       "      <td>319802</td>\n",
       "    </tr>\n",
       "    <tr>\n",
       "      <th>3</th>\n",
       "      <td>5N1</td>\n",
       "      <td>B</td>\n",
       "      <td>A08</td>\n",
       "      <td>D</td>\n",
       "      <td>4</td>\n",
       "      <td>9</td>\n",
       "      <td>N</td>\n",
       "      <td>601792</td>\n",
       "    </tr>\n",
       "    <tr>\n",
       "      <th>4</th>\n",
       "      <td>5TF</td>\n",
       "      <td>H</td>\n",
       "      <td>Y5F</td>\n",
       "      <td>1</td>\n",
       "      <td>9</td>\n",
       "      <td>C</td>\n",
       "      <td>X</td>\n",
       "      <td>236781</td>\n",
       "    </tr>\n",
       "    <tr>\n",
       "      <th>5</th>\n",
       "      <td>JN1</td>\n",
       "      <td>C</td>\n",
       "      <td>V6A</td>\n",
       "      <td>R</td>\n",
       "      <td>7</td>\n",
       "      <td>B</td>\n",
       "      <td>M</td>\n",
       "      <td>356524</td>\n",
       "    </tr>\n",
       "    <tr>\n",
       "      <th>6</th>\n",
       "      <td>ZFF</td>\n",
       "      <td>6</td>\n",
       "      <td>5LJ</td>\n",
       "      <td>A</td>\n",
       "      <td>9</td>\n",
       "      <td>A</td>\n",
       "      <td>0</td>\n",
       "      <td>170669</td>\n",
       "    </tr>\n",
       "  </tbody>\n",
       "</table>\n",
       "</div>"
      ],
      "text/plain": [
       "   wmi brake body engine check_digit year plant    snum\n",
       "0  1FT     7  X2B      6           X    C     E  B34867\n",
       "1  1FT     N  F1C      F           4    E     K  D18628\n",
       "2  1GN     K  RFE      D           3    C     J  319802\n",
       "3  5N1     B  A08      D           4    9     N  601792\n",
       "4  5TF     H  Y5F      1           9    C     X  236781\n",
       "5  JN1     C  V6A      R           7    B     M  356524\n",
       "6  ZFF     6  5LJ      A           9    A     0  170669"
      ]
     },
     "execution_count": 13,
     "metadata": {},
     "output_type": "execute_result"
    }
   ],
   "source": [
    "wmi_pattern = r'(?P<wmi>[ABCDEFGHJKLMNPRSTUVWXYZ1234567890]{3})'  # pos. 1-3\n",
    "brake_pattern = r'(?P<brake>[ABCDEFGHJKLMNPRSTUVWXYZ1234567890])' # pos. 4\n",
    "body_pattern = r'(?P<body>[ABCDEFGHJKLMNPRSTUVWXYZ1234567890]{3})'  # pos. 5-7\n",
    "engine_pattern = r'(?P<engine>[ABCDEFGHJKLMNPRSTUVWXYZ1234567890])'  # pos. 8\n",
    "check_digit_pattern = r'(?P<check_digit>[ABCDEFGHJKLMNPRSTUVWXYZ1234567890])'  # pos. 9\n",
    "year_pattern = r'(?P<year>[ABCDEFGHJKLMNPRSTUVWXYZ1234567890])'.replace('U', '').replace('Z', '').replace('0', '')  # pos. 10\n",
    "plant_pattern = r'(?P<plant>[ABCDEFGHJKLMNPRSTUVWXYZ1234567890])'  # pos. 11\n",
    "snum_pattern = r'(?P<snum>[ABCDEFGHJKLMNPRSTUVWXYZ1234567890]\\d{5})'  # pos. 12-17\n",
    "pattern = f'{wmi_pattern}{brake_pattern}{body_pattern}{engine_pattern}{check_digit_pattern}{year_pattern}{plant_pattern}{snum_pattern}'\n",
    "pd.DataFrame([x.groupdict() for x in re.compile(pattern).finditer(vin_sample)])"
   ]
  },
  {
   "cell_type": "markdown",
   "id": "0d487366-13e6-4542-8a18-f665cdc35f2e",
   "metadata": {},
   "source": [
    "### Извлечение производителя из VIN-кода"
   ]
  },
  {
   "cell_type": "code",
   "execution_count": 18,
   "id": "c3c8fbdd-3300-4d83-af03-70cf33187970",
   "metadata": {},
   "outputs": [
    {
     "data": {
      "text/plain": [
       "['1FT', '1FT', '1GN', '5N1', '5TF', 'JN1', 'ZFF']"
      ]
     },
     "execution_count": 18,
     "metadata": {},
     "output_type": "execute_result"
    }
   ],
   "source": [
    "pattern = r'''\n",
    "    \\b(?P<wmi>[ABCDEFGHJKLMNPRSTUVWXYZ1234567890]{3})  # три первые элемента слова, принадлежащие такому набору\n",
    "    [ABCDEFGHJKLMNPRSTUVWXYZ1234567890]{14}\\b          # исключение 14-ти последующих элементов слова, принадлежащих набору\n",
    "'''\n",
    "re.compile(pattern, re.X).findall(vin_sample)"
   ]
  },
  {
   "cell_type": "markdown",
   "id": "c4c55afd-37bf-4c5f-9c3e-933862eb8c9b",
   "metadata": {},
   "source": [
    "### Поиск всех VIN-кодов определенной марки автомобиля на примере Ferrari\n",
    "- Вин-коды Феррари ZDF, ZFF, ZSG"
   ]
  },
  {
   "cell_type": "code",
   "execution_count": 21,
   "id": "2d800abd-8814-425c-a163-f71e18ebd33e",
   "metadata": {},
   "outputs": [
    {
     "data": {
      "text/plain": [
       "['ZFF65LJA9A0170669']"
      ]
     },
     "execution_count": 21,
     "metadata": {},
     "output_type": "execute_result"
    }
   ],
   "source": [
    "ferrari_wmi = ['ZDF', 'ZFF', 'ZSG']\n",
    "wmi_pattern = '|'.join(ferrari_wmi)\n",
    "pattern = re.compile(f'\\\\b(?:{wmi_pattern})[ABCDEFGHJKLMNPRSTUVWXYZ1234567890]{{14}}\\\\b')\n",
    "pattern.findall(vin_sample)"
   ]
  },
  {
   "cell_type": "markdown",
   "id": "1f04b4f6-d374-4580-84f2-97d8f6fb8265",
   "metadata": {},
   "source": [
    "### Поиск VIN-кодов с определенным регионом\n",
    "Северная Америка как регион (США, Канада, Мексика)\n",
    "\n",
    "    1, 4, 5 = United States\n",
    "    2 = Canada\n",
    "    3 = Mexico\n",
    "    7F-70 = United States"
   ]
  },
  {
   "cell_type": "markdown",
   "id": "0c196773-0de9-4a1b-b9ee-bda57f41fa58",
   "metadata": {},
   "source": [
    "Североамериканские машины"
   ]
  },
  {
   "cell_type": "code",
   "execution_count": 24,
   "id": "3f57886c-3865-47be-84a8-3e6f246a5a2c",
   "metadata": {},
   "outputs": [
    {
     "data": {
      "text/plain": [
       "['1FT7X2B6XCEB34867',\n",
       " '1FTNF1CF4EKD18628',\n",
       " '1GNKRFED3CJ319802',\n",
       " '5N1BA08D49N601792',\n",
       " '5TFHY5F19CX236781']"
      ]
     },
     "execution_count": 24,
     "metadata": {},
     "output_type": "execute_result"
    }
   ],
   "source": [
    "pattern = r'''\n",
    "    \\b(?:1|4|5|7F|70)[ABCDEFGHJKLMNPRSTUVWXYZ1234567890]{16}\\b\n",
    "    |\\b2[ABCDEFGHJKLMNPRSTUVWXYZ1234567890]{16}\\b\n",
    "    |\\b3[ABCDEFGHJKLMNPRSTUVWXYZ1234567890]{16}\\b\n",
    "    '''\n",
    "re.compile(pattern, re.X).findall(vin_sample)"
   ]
  },
  {
   "cell_type": "markdown",
   "id": "e376116f-8700-412b-a963-f79f148afcbc",
   "metadata": {},
   "source": [
    "Машины из любых других регионов (не Сев.Америка)"
   ]
  },
  {
   "cell_type": "code",
   "execution_count": 25,
   "id": "2bb717e2-6f42-4d45-b438-994498699bd5",
   "metadata": {},
   "outputs": [
    {
     "data": {
      "text/plain": [
       "['JN1CV6AR7BM356524', 'ZFF65LJA9A0170669']"
      ]
     },
     "execution_count": 25,
     "metadata": {},
     "output_type": "execute_result"
    }
   ],
   "source": [
    "pattern = re.compile(r'\\b(?!(?:1|4|5|7F|70|2|3)[ABCDEFGHJKLMNPRSTUVWXYZ1234567890]{16})[ABCDEFGHJKLMNPRSTUVWXYZ1234567890]{17}\\b')\n",
    "pattern.findall(vin_sample)"
   ]
  },
  {
   "cell_type": "markdown",
   "id": "a2d6d5a5-7026-4262-a0c8-c82a5ae2c8d8",
   "metadata": {},
   "source": [
    "### Извлечение года из VIN-кода только североамериканских машин\n",
    "- В североамериканском вине год 10й знак\n",
    "- в кодировке года не используются знаки U и Z в дополнение к запрещенным I, O, Q"
   ]
  },
  {
   "cell_type": "code",
   "execution_count": 37,
   "id": "8d6a4c37-17f3-4dd1-9e73-15f3941f8890",
   "metadata": {},
   "outputs": [
    {
     "data": {
      "text/plain": [
       "['C', 'E', 'C', '9', 'C']"
      ]
     },
     "execution_count": 37,
     "metadata": {},
     "output_type": "execute_result"
    }
   ],
   "source": [
    "pattern = r'''\n",
    "    \\b(?:1|4|5|7F|70)[ABCDEFGHJKLMNPRSTUVWXYZ1234567890]{16}\\b\n",
    "    |\\b2[ABCDEFGHJKLMNPRSTUVWXYZ1234567890]{16}\\b\n",
    "    |\\b3[ABCDEFGHJKLMNPRSTUVWXYZ1234567890]{16}\\b\n",
    "'''\n",
    "[x[9] for x in re.compile(pattern, re.X).findall(vin_sample)]"
   ]
  },
  {
   "cell_type": "markdown",
   "id": "937c30ea-9fdf-4d81-a323-5ff920d48d9f",
   "metadata": {},
   "source": [
    "Для проверки выведем весь датафрейм компонентов VIN кода"
   ]
  },
  {
   "cell_type": "code",
   "execution_count": 38,
   "id": "84b53da7-3597-4f47-a9b6-bdd9549fdc55",
   "metadata": {},
   "outputs": [
    {
     "data": {
      "text/html": [
       "<div>\n",
       "<style scoped>\n",
       "    .dataframe tbody tr th:only-of-type {\n",
       "        vertical-align: middle;\n",
       "    }\n",
       "\n",
       "    .dataframe tbody tr th {\n",
       "        vertical-align: top;\n",
       "    }\n",
       "\n",
       "    .dataframe thead th {\n",
       "        text-align: right;\n",
       "    }\n",
       "</style>\n",
       "<table border=\"1\" class=\"dataframe\">\n",
       "  <thead>\n",
       "    <tr style=\"text-align: right;\">\n",
       "      <th></th>\n",
       "      <th>wmi</th>\n",
       "      <th>brake</th>\n",
       "      <th>body</th>\n",
       "      <th>engine</th>\n",
       "      <th>check_digit</th>\n",
       "      <th>year</th>\n",
       "      <th>plant</th>\n",
       "      <th>snum</th>\n",
       "    </tr>\n",
       "  </thead>\n",
       "  <tbody>\n",
       "    <tr>\n",
       "      <th>0</th>\n",
       "      <td>1FT</td>\n",
       "      <td>7</td>\n",
       "      <td>X2B</td>\n",
       "      <td>6</td>\n",
       "      <td>X</td>\n",
       "      <td>C</td>\n",
       "      <td>E</td>\n",
       "      <td>B34867</td>\n",
       "    </tr>\n",
       "    <tr>\n",
       "      <th>1</th>\n",
       "      <td>1FT</td>\n",
       "      <td>N</td>\n",
       "      <td>F1C</td>\n",
       "      <td>F</td>\n",
       "      <td>4</td>\n",
       "      <td>E</td>\n",
       "      <td>K</td>\n",
       "      <td>D18628</td>\n",
       "    </tr>\n",
       "    <tr>\n",
       "      <th>2</th>\n",
       "      <td>1GN</td>\n",
       "      <td>K</td>\n",
       "      <td>RFE</td>\n",
       "      <td>D</td>\n",
       "      <td>3</td>\n",
       "      <td>C</td>\n",
       "      <td>J</td>\n",
       "      <td>319802</td>\n",
       "    </tr>\n",
       "    <tr>\n",
       "      <th>3</th>\n",
       "      <td>5N1</td>\n",
       "      <td>B</td>\n",
       "      <td>A08</td>\n",
       "      <td>D</td>\n",
       "      <td>4</td>\n",
       "      <td>9</td>\n",
       "      <td>N</td>\n",
       "      <td>601792</td>\n",
       "    </tr>\n",
       "    <tr>\n",
       "      <th>4</th>\n",
       "      <td>5TF</td>\n",
       "      <td>H</td>\n",
       "      <td>Y5F</td>\n",
       "      <td>1</td>\n",
       "      <td>9</td>\n",
       "      <td>C</td>\n",
       "      <td>X</td>\n",
       "      <td>236781</td>\n",
       "    </tr>\n",
       "    <tr>\n",
       "      <th>5</th>\n",
       "      <td>JN1</td>\n",
       "      <td>C</td>\n",
       "      <td>V6A</td>\n",
       "      <td>R</td>\n",
       "      <td>7</td>\n",
       "      <td>B</td>\n",
       "      <td>M</td>\n",
       "      <td>356524</td>\n",
       "    </tr>\n",
       "    <tr>\n",
       "      <th>6</th>\n",
       "      <td>ZFF</td>\n",
       "      <td>6</td>\n",
       "      <td>5LJ</td>\n",
       "      <td>A</td>\n",
       "      <td>9</td>\n",
       "      <td>A</td>\n",
       "      <td>0</td>\n",
       "      <td>170669</td>\n",
       "    </tr>\n",
       "  </tbody>\n",
       "</table>\n",
       "</div>"
      ],
      "text/plain": [
       "   wmi brake body engine check_digit year plant    snum\n",
       "0  1FT     7  X2B      6           X    C     E  B34867\n",
       "1  1FT     N  F1C      F           4    E     K  D18628\n",
       "2  1GN     K  RFE      D           3    C     J  319802\n",
       "3  5N1     B  A08      D           4    9     N  601792\n",
       "4  5TF     H  Y5F      1           9    C     X  236781\n",
       "5  JN1     C  V6A      R           7    B     M  356524\n",
       "6  ZFF     6  5LJ      A           9    A     0  170669"
      ]
     },
     "execution_count": 38,
     "metadata": {},
     "output_type": "execute_result"
    }
   ],
   "source": [
    "wmi_pattern = r'(?P<wmi>[ABCDEFGHJKLMNPRSTUVWXYZ1234567890]{3})'  # pos. 1-3\n",
    "brake_pattern = r'(?P<brake>[ABCDEFGHJKLMNPRSTUVWXYZ1234567890])' # pos. 4\n",
    "body_pattern = r'(?P<body>[ABCDEFGHJKLMNPRSTUVWXYZ1234567890]{3})'  # pos. 5-7\n",
    "engine_pattern = r'(?P<engine>[ABCDEFGHJKLMNPRSTUVWXYZ1234567890])'  # pos. 8\n",
    "check_digit_pattern = r'(?P<check_digit>[ABCDEFGHJKLMNPRSTUVWXYZ1234567890])'  # pos. 9\n",
    "year_pattern = r'(?P<year>[ABCDEFGHJKLMNPRSTUVWXYZ1234567890])'.replace('U', '').replace('Z', '').replace('0', '')  # pos. 10\n",
    "plant_pattern = r'(?P<plant>[ABCDEFGHJKLMNPRSTUVWXYZ1234567890])'  # pos. 11\n",
    "snum_pattern = r'(?P<snum>[ABCDEFGHJKLMNPRSTUVWXYZ1234567890]\\d{5})'  # pos. 12-17\n",
    "pattern = f'{wmi_pattern}{brake_pattern}{body_pattern}{engine_pattern}{check_digit_pattern}{year_pattern}{plant_pattern}{snum_pattern}'\n",
    "pd.DataFrame([x.groupdict() for x in re.compile(pattern).finditer(vin_sample)])"
   ]
  },
  {
   "cell_type": "markdown",
   "id": "90051d8b-3af5-42a0-9d0b-ae64a9ecf03a",
   "metadata": {},
   "source": [
    "### Проверка корректности формата VIN-кода\n",
    "\n",
    "- Вин-код состоит из 17 знаков – цифр и букв, кроме 'I', 'O', 'Q'\n",
    "- Последние три знака – всегда цифры\n",
    "\n",
    "Создадим набор винов, где только один вин валидный и остальные ошибочные\n",
    "- отрежем один знак\n",
    "- добавим лишний знак\n",
    "- заменим буквой последнюю цифру в номере\n",
    "- заменим разрешенный знак на неразрешенный"
   ]
  },
  {
   "cell_type": "code",
   "execution_count": 39,
   "id": "3e4f3d3b-b3ca-47df-a218-399a6e797067",
   "metadata": {},
   "outputs": [
    {
     "data": {
      "text/plain": [
       "'1FT7X2B6XCEB34867 1FTNF1CF4EKD18628 1GNKRFED3CJ319802 5N1BA08D49N601792 5TFHY5F19CX236781 JN1CV6AR7BM356524 ZFF65LJA9A0170669 3LN6L2GKXDR811732 BAAM3334XKC59086 1N4BL11D84C1859519 1C4RJEBG5EC48287Q QN1AB7AP5EL654699'"
      ]
     },
     "execution_count": 39,
     "metadata": {},
     "output_type": "execute_result"
    }
   ],
   "source": [
    "error_sample = vin_sample + ' 3LN6L2GKXDR811732 BAAM3334XKC59086 1N4BL11D84C1859519 1C4RJEBG5EC48287Q QN1AB7AP5EL654699'\n",
    "error_sample"
   ]
  },
  {
   "cell_type": "markdown",
   "id": "2d35aae8-a1e2-4748-b4c4-163dcda81fc5",
   "metadata": {},
   "source": [
    "Валидные VIN-коды"
   ]
  },
  {
   "cell_type": "code",
   "execution_count": 48,
   "id": "317c0ef3-28a4-41cb-8066-79d12a6d6c60",
   "metadata": {},
   "outputs": [
    {
     "data": {
      "text/plain": [
       "['1FT7X2B6XCEB34867',\n",
       " '1FTNF1CF4EKD18628',\n",
       " '1GNKRFED3CJ319802',\n",
       " '5N1BA08D49N601792',\n",
       " '5TFHY5F19CX236781',\n",
       " 'JN1CV6AR7BM356524',\n",
       " 'ZFF65LJA9A0170669',\n",
       " '3LN6L2GKXDR811732']"
      ]
     },
     "execution_count": 48,
     "metadata": {},
     "output_type": "execute_result"
    }
   ],
   "source": [
    "pattern = re.compile(r'\\b[ABCDEFGHJKLMNPRSTUVWXYZ1234567890]{14}\\d{3}\\b')\n",
    "pattern.findall(error_sample)"
   ]
  },
  {
   "cell_type": "markdown",
   "id": "bd657409-b572-4714-b30d-4fff4c92126e",
   "metadata": {},
   "source": [
    "Не валидные VIN-коды"
   ]
  },
  {
   "cell_type": "code",
   "execution_count": 52,
   "id": "b4e0e067-c2ca-477b-a6a8-46b47e00c5db",
   "metadata": {},
   "outputs": [
    {
     "data": {
      "text/plain": [
       "['BAAM3334XKC59086',\n",
       " '1N4BL11D84C1859519',\n",
       " '1C4RJEBG5EC48287Q',\n",
       " 'QN1AB7AP5EL654699']"
      ]
     },
     "execution_count": 52,
     "metadata": {},
     "output_type": "execute_result"
    }
   ],
   "source": [
    "pattern = re.compile(r'(?!\\b[ABCDEFGHJKLMNPRSTUVWXYZ1234567890]{14}\\d{3}\\b)\\b\\w+\\b')\n",
    "\n",
    "pattern.findall(error_sample)"
   ]
  },
  {
   "cell_type": "markdown",
   "id": "719b94dc-e3f6-4ef5-8dfe-ac23ad3d6668",
   "metadata": {},
   "source": [
    "### Автомобили Ford"
   ]
  },
  {
   "cell_type": "code",
   "execution_count": 53,
   "id": "43989b59-65ef-48b3-a792-c52b69a09201",
   "metadata": {},
   "outputs": [],
   "source": [
    "ford_wmi = {\n",
    "    'AFA': 'Ford Motor Company of Southern Africa & Samcor',\n",
    "    'AFB': 'Mazda BT-50 made by Ford Motor Company of Southern Africa',\n",
    "    'JC0': 'Ford brand cars made by Mazda',\n",
    "    'JC2': 'Ford Courier made by Mazda',\n",
    "    'KNJ': 'Ford Festiva & Aspire made by Kia',\n",
    "    'LJX': 'JMC Ford',\n",
    "    'LVS': 'Changan Ford & Changan Ford Mazda',\n",
    "    'MAJ': 'Ford India',\n",
    "    'MNB': 'Ford Thailand',\n",
    "    'NM0': 'Ford Otosan',\n",
    "    'PE1': 'Ford Motor Company Philippines',\n",
    "    'PE3': 'Mazda Philippines made by Ford Motor Company Philippines',\n",
    "    'PR8': 'Ford',\n",
    "    'LFA': 'Ford Lio Ho Motor Co Ltd. old designation',\n",
    "    'RHA': 'Ford Lio Ho Motor Co Ltd. new designation',\n",
    "    'RL0': 'Ford Vietnam',\n",
    "    'SBC': 'Iveco Ford Truck',\n",
    "    'SFA': 'Ford UK',\n",
    "    'VSK': 'Nissan Motor Iberica SA, Nissan passenger car/MPV/van/SUV/pickup & Ford Maverick 1993–1999',\n",
    "    'VS6': 'Ford Spain',\n",
    "    'WF0': 'Ford Germany',\n",
    "    'X9F': 'Ford Motor Company ZAO',\n",
    "    'Z6F': 'Ford Sollers (Russia)',\n",
    "    '1FA': 'Ford car',\n",
    "    '1FB': 'Ford \"bus\" (van with more than 3 rows of seats)',\n",
    "    '1FC': 'Ford stripped chassis made by Ford',\n",
    "    '1FD': 'Ford incomplete vehicle',\n",
    "    '1FM': 'Ford MPV/SUV',\n",
    "    '1FT': 'Ford truck',\n",
    "    '1F1': 'Ford SUV - Limousine (through 2009)',\n",
    "    '1F6': 'Ford stripped chassis made by Detroit Chassis LLC',\n",
    "    '1ZV': 'Ford made by AutoAlliance International',\n",
    "    '2FA': 'Ford car',\n",
    "    '2FM': 'Ford MPV/SUV',\n",
    "    '2FT': 'Ford truck',\n",
    "    '3FA': 'Ford car',\n",
    "    '3FC': 'Ford stripped chassis made by Ford & IMMSA',\n",
    "    '3FE': 'Ford Mexico',\n",
    "    '3FM': 'Ford MPV/SUV',\n",
    "    '3FN': 'Ford F-650/F-750 made by Blue Diamond Truck Co. (truck)',\n",
    "    '3FR': 'Ford F-650/F-750 made by Blue Diamond Truck Co. (incomplete vehicle)',\n",
    "    '3FT': 'Ford truck',\n",
    "    '4F2': 'Mazda SUV made by Ford',\n",
    "    '4F4': 'Mazda truck made by Ford',\n",
    "    '4N2': 'Nissan Quest made by Ford',\n",
    "    '5LD': 'Ford & Lincoln incomplete vehicle – limousine (2010–2014)',\n",
    "    '6F1': 'Ford',\n",
    "    '6FP': 'Ford Australia',\n",
    "    '7A5': 'Ford New Zealand',\n",
    "    '8AF': 'Ford Argentina',\n",
    "    '9BF': 'Ford Brazil',\n",
    "}"
   ]
  },
  {
   "cell_type": "code",
   "execution_count": 55,
   "id": "7c0bfe1d-8546-4b11-af1a-0046ccc79224",
   "metadata": {},
   "outputs": [],
   "source": [
    "ford_groups = {\n",
    "    'P': 'All Ford, Mercury, Merkur, and Lincoln passenger cars 1981-1986, Ford-brand passenger cars made in North America at a factory owned 100% by Ford Motor Co. 1987-2009',\n",
    "    'M': 'Mercury & Lincoln passenger cars made in North America at a factory owned 100% by Ford Motor Co. 1987-2009. Mercury passenger cars 2010-2011',\n",
    "    'T': 'Ford, Mercury, and Merkur passenger cars made outside North America or made in North America at a factory not owned 100% by Ford Motor Co. 1987-2009 (Ford Festiva, Aspire, Probe, & \\'05-\\'09 Mustang, Mercury Capri \\'91-\\'94, & Cougar \\'99-\\'02, Merkur XR4Ti \\'87-\\'89 and Scorpio \\'88-\\'89)',\n",
    "    'P': 'Ford-brand passenger cars 2010-',\n",
    "    'L': 'Lincoln passenger cars 2010-2020',\n",
    "}"
   ]
  },
  {
   "cell_type": "markdown",
   "id": "14c94dfe-dd24-47d9-850e-8193db71d671",
   "metadata": {},
   "source": [
    "Отбор автомобилей FORD"
   ]
  },
  {
   "cell_type": "code",
   "execution_count": 58,
   "id": "0692d93c-4fa8-4632-96eb-613e764f9065",
   "metadata": {},
   "outputs": [
    {
     "data": {
      "text/plain": [
       "['1FT7X2B6XCEB34867', '1FTNF1CF4EKD18628']"
      ]
     },
     "execution_count": 58,
     "metadata": {},
     "output_type": "execute_result"
    }
   ],
   "source": [
    "ford_wmi_pattern = '|'.join(ford_wmi.keys())\n",
    "pattern = f'\\\\b(?:{ford_wmi_pattern})[ABCDEFGHJKLMNPRSTUVWXYZ1234567890]{{14}}\\\\b'\n",
    "re.compile(pattern).findall(vin_sample)"
   ]
  },
  {
   "cell_type": "code",
   "execution_count": null,
   "id": "754f4b01-8862-4174-b30a-ba726bfbd7ce",
   "metadata": {},
   "outputs": [],
   "source": []
  },
  {
   "cell_type": "code",
   "execution_count": null,
   "id": "2dd2639c-b30d-4ecd-87a9-860c8792e4a3",
   "metadata": {},
   "outputs": [],
   "source": []
  },
  {
   "cell_type": "code",
   "execution_count": null,
   "id": "180c8d5a-d78d-4b92-b570-30c3573a7bb5",
   "metadata": {},
   "outputs": [],
   "source": []
  },
  {
   "cell_type": "code",
   "execution_count": null,
   "id": "917b49c3-d16b-444d-98b1-cc32c9496a1a",
   "metadata": {},
   "outputs": [],
   "source": []
  },
  {
   "cell_type": "code",
   "execution_count": null,
   "id": "3d093c00-6a91-4214-b99f-4857a731f380",
   "metadata": {},
   "outputs": [],
   "source": []
  },
  {
   "cell_type": "code",
   "execution_count": null,
   "id": "cb8128a2-2d97-40c1-9845-dbfa41bba4af",
   "metadata": {},
   "outputs": [],
   "source": []
  },
  {
   "cell_type": "code",
   "execution_count": null,
   "id": "4ce04657-a3cc-4ebf-8c8a-9ea604a9d8d1",
   "metadata": {},
   "outputs": [],
   "source": []
  },
  {
   "cell_type": "code",
   "execution_count": null,
   "id": "f9adcc05-82f6-4847-a654-29bf13a7729f",
   "metadata": {},
   "outputs": [],
   "source": []
  },
  {
   "cell_type": "code",
   "execution_count": null,
   "id": "57178ce6-74d6-479c-948e-1ffe3cb1b4a8",
   "metadata": {},
   "outputs": [],
   "source": []
  }
 ],
 "metadata": {
  "kernelspec": {
   "display_name": "Python 3 (ipykernel)",
   "language": "python",
   "name": "python3"
  },
  "language_info": {
   "codemirror_mode": {
    "name": "ipython",
    "version": 3
   },
   "file_extension": ".py",
   "mimetype": "text/x-python",
   "name": "python",
   "nbconvert_exporter": "python",
   "pygments_lexer": "ipython3",
   "version": "3.10.12"
  }
 },
 "nbformat": 4,
 "nbformat_minor": 5
}
