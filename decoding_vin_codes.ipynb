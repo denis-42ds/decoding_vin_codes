{
 "cells": [
  {
   "cell_type": "markdown",
   "id": "4ebc8a6a-af22-4e7d-a814-c25685c4cf2f",
   "metadata": {},
   "source": [
    "# Расшифровка VIN-кодов автомобилей при помощи регулярных выражений\n",
    "\n",
    "**Описание проекта**\n",
    "Изучение информации, зашифрованной в VIN-кодах с целью прогнозирования цены.\n",
    "\n",
    "**Цель проекта**\n",
    "- Составление прогноза цен на основании информации скрытой в VIN-кодах.\n",
    "\n",
    "**Задачи**\n",
    "- изучить структуру VIN-кода: какие информационные компоненты он содержит (регион, производитель, характеристики автомобиля и т. д.);\n",
    "- составлять регулярные выражения для поиска и извлечения конкретных частей VIN-кода, таких как производитель, модель и год выпуска;\n",
    "- распарсить текстовый массив данных с VIN-кодами и ценами;\n",
    "- решить задачу предсказания цены по VIN-коду.\n",
    "\n",
    "**Ход исследования**\n",
    "- Ознакомление с данными.\n",
    "- Предварительная обработка данных.\n",
    "- Определение целевой метрики.\n",
    "- Подготовка данных для baseline-модели.\n",
    "- Создание baseline-модели.\n",
    "- Расчёт метрик.\n",
    "- Подготовка данных для нейронной сети.\n",
    "- Обучение нейронной сети.\n",
    "- Расчет и сравнение метрик.\n",
    "- Анализ финальной модели.\n",
    "- Исследование/решение дополнительных задач.\n",
    "- Подготовка отчета по исследованию."
   ]
  },
  {
   "cell_type": "markdown",
   "id": "f4cab216-63c3-4f01-bfd8-097a849f314b",
   "metadata": {},
   "source": [
    "Настройка среды"
   ]
  },
  {
   "cell_type": "code",
   "execution_count": null,
   "id": "5f2d06d6-8e7b-4e6d-ae02-4137e3579c20",
   "metadata": {},
   "outputs": [],
   "source": [
    "!pip freeze > requirements.txt"
   ]
  },
  {
   "cell_type": "markdown",
   "id": "97e21132-ffa0-49b0-8c22-d3c434966b87",
   "metadata": {},
   "source": [
    "Установка глобальных переменных"
   ]
  },
  {
   "cell_type": "code",
   "execution_count": 1,
   "id": "6638043a-51af-4ecd-bd0c-bfdfce84bbe2",
   "metadata": {},
   "outputs": [],
   "source": [
    "RANDOM_STATE = 42"
   ]
  },
  {
   "cell_type": "markdown",
   "id": "6fda7911-a9b3-4bf5-bbb6-3b30ae1460d4",
   "metadata": {},
   "source": [
    "## Знакомство с данными"
   ]
  },
  {
   "cell_type": "code",
   "execution_count": null,
   "id": "3b43a6c9-af48-4c4c-b709-73f54f3ce6cc",
   "metadata": {},
   "outputs": [],
   "source": []
  },
  {
   "cell_type": "code",
   "execution_count": null,
   "id": "0f249ed5-c2b1-42cd-8271-2eacfe4d26c3",
   "metadata": {},
   "outputs": [],
   "source": []
  }
 ],
 "metadata": {
  "kernelspec": {
   "display_name": "Python 3 (ipykernel)",
   "language": "python",
   "name": "python3"
  },
  "language_info": {
   "codemirror_mode": {
    "name": "ipython",
    "version": 3
   },
   "file_extension": ".py",
   "mimetype": "text/x-python",
   "name": "python",
   "nbconvert_exporter": "python",
   "pygments_lexer": "ipython3",
   "version": "3.10.12"
  }
 },
 "nbformat": 4,
 "nbformat_minor": 5
}
