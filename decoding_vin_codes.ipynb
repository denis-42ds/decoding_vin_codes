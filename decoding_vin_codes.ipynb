{
 "cells": [
  {
   "cell_type": "markdown",
   "id": "4ebc8a6a-af22-4e7d-a814-c25685c4cf2f",
   "metadata": {},
   "source": [
    "# Расшифровка VIN-кодов автомобилей при помощи регулярных выражений\n",
    "\n",
    "**Описание проекта**\n",
    "Изучение информации, зашифрованной в VIN-кодах с целью прогнозирования цены.\n",
    "\n",
    "**Цель проекта**\n",
    "- Составление прогноза цен для автомобилей FORD на основании информации скрытой в VIN-кодах.\n",
    "\n",
    "**Задачи**\n",
    "- изучить структуру VIN-кода: какие информационные компоненты он содержит (регион, производитель, характеристики автомобиля и т. д.);\n",
    "- составлять регулярные выражения для поиска и извлечения конкретных частей VIN-кода, таких как производитель, модель и год выпуска;\n",
    "- распарсить текстовый массив данных с VIN-кодами и ценами;\n",
    "- решить задачу предсказания цены по VIN-коду.\n",
    "\n",
    "**Метрики**\n",
    "- `MSE`, `MAE`, `MAPE`, `R2`\n",
    "\n",
    "**Ход исследования**\n",
    "- Ознакомление с данными;\n",
    "- ознакомление со способами кодирования данных в VIN-кодах;\n",
    "- составление паттерна для парсинга VIN-кодов;\n",
    "- проверка работоспособности паттерна;\n",
    "- парсинг VIN-кодов;\n",
    "- подготовка данных для модели;\n",
    "- обучение baseline модели;\n",
    "- обучение других моделей;\n",
    "- выбор лучшей модели;\n",
    "- проверка важности признаков;\n",
    "- заключение по исследованию.\n",
    "\n",
    "**Справочная информация**\n",
    "- https://docs.python.org/3/library/re.html\n",
    "- https://regex101.com\n",
    "- https://en.wikibooks.org/wiki/Vehicle_Identification_Numbers_(VIN_codes)#Table_of_Contents\n",
    "- https://en.wikibooks.org/wiki/Vehicle_Identification_Numbers_(VIN_codes)/World_Manufacturer_Identifier_(WMI)\n",
    "- https://en.wikibooks.org/wiki/Vehicle_Identification_Numbers_(VIN_codes)/Printable_version#Model#\n",
    "- https://en.wikipedia.org/wiki/List_of_Ford_factories\n",
    "\n",
    "**Форматы VIN-кодов**\n",
    "\n",
    "![варианты vin кодов](data/photo_5269222301897973406_x.jpg)"
   ]
  },
  {
   "cell_type": "markdown",
   "id": "f4cab216-63c3-4f01-bfd8-097a849f314b",
   "metadata": {},
   "source": [
    "Настройка среды"
   ]
  },
  {
   "cell_type": "code",
   "execution_count": 1,
   "id": "5f2d06d6-8e7b-4e6d-ae02-4137e3579c20",
   "metadata": {},
   "outputs": [],
   "source": [
    "# !pip install pandas\n",
    "# !pip install seaborn\n",
    "# !pip install mlflow\n",
    "# !pip install psycopg2-binary\n",
    "# !pip install python-dotenv\n",
    "# !pip install phik\n",
    "# !pip install catboost\n",
    "# !pip install shap\n",
    "!pip freeze > requirements.txt"
   ]
  },
  {
   "cell_type": "code",
   "execution_count": 2,
   "id": "45a8c5a6-44c9-40c5-9c39-09c6e5fb5aa3",
   "metadata": {},
   "outputs": [],
   "source": [
    "import re\n",
    "import os\n",
    "import pandas as pd\n",
    "import psycopg2 as psycopg\n",
    "\n",
    "from dotenv import load_dotenv"
   ]
  },
  {
   "cell_type": "markdown",
   "id": "97e21132-ffa0-49b0-8c22-d3c434966b87",
   "metadata": {},
   "source": [
    "Установка глобальных переменных"
   ]
  },
  {
   "cell_type": "code",
   "execution_count": 3,
   "id": "6638043a-51af-4ecd-bd0c-bfdfce84bbe2",
   "metadata": {},
   "outputs": [],
   "source": [
    "RANDOM_STATE = 42\n",
    "ASSETS_DIR = 'assets'\n",
    "DATA_PATH = 'data/vin_ford_train.txt'\n",
    "TRACKING_SERVER_PORT = 5000\n",
    "TRACKING_SERVER_HOST = \"127.0.0.1\"\n",
    "EXPERIMENT_NAME = 'vin_codes'\n",
    "RUN_NAME = ['baseline_0_registry', 'lr_0_registry', 'rf_0_registry', 'cb_0_registry']\n",
    "REGISTRY_MODEL_NAME = ['baseline', 'linear_regression', 'rendom_forest', 'catboost']\n",
    "\n",
    "load_dotenv()\n",
    "connection = {\"sslmode\": \"require\",\n",
    "              \"target_session_attrs\": \"read-write\"}\n",
    "postgres_credentials = {\"host\": os.getenv(\"DB_HOST\"),\n",
    "                        \"port\": os.getenv(\"DB_PORT\"),\n",
    "                        \"dbname\": os.getenv(\"DB_NAME\"),\n",
    "                        \"user\": os.getenv(\"DB_USERNAME\"),\n",
    "                        \"password\": os.getenv(\"DB_PASSWORD\")}"
   ]
  },
  {
   "cell_type": "markdown",
   "id": "843d6222-0599-425f-ab79-e6e77001ed38",
   "metadata": {},
   "source": [
    "Импорт класса для проведения исследования"
   ]
  },
  {
   "cell_type": "code",
   "execution_count": 4,
   "id": "07b2ab2c-3705-475d-9af9-431f58f59269",
   "metadata": {},
   "outputs": [],
   "source": [
    "%load_ext autoreload\n",
    "%autoreload 2\n",
    "\n",
    "from research_class import DatasetExplorer"
   ]
  },
  {
   "cell_type": "markdown",
   "id": "6fda7911-a9b3-4bf5-bbb6-3b30ae1460d4",
   "metadata": {},
   "source": [
    "## Знакомство с данными"
   ]
  },
  {
   "cell_type": "code",
   "execution_count": 5,
   "id": "3b43a6c9-af48-4c4c-b709-73f54f3ce6cc",
   "metadata": {},
   "outputs": [
    {
     "name": "stdout",
     "output_type": "stream",
     "text": [
      "[2FMDK3JC4BBA41556:12500]мой[3FA6P0H75ER208976:14500]дядя [3FAHP08Z17R268380:1300][1FMCU0GX3DUC59421:15200]самых [1FAHP2E89DG119368:11600] верных[1FM5K8D82DGA16143:26400][1FTFW1CFXCFC23663:14000][2FMDK3JC6CBA90002:19500][1FTFW1CT8DKD06233:24400][1FMZU64W13UC28949:2900][2FMDK3JC9DBB30736:23500][1FMCU9D76CKC49193:12700][1FMCU9EG2CKA90624:20700][1FMCU0JX7EUA28208:21300][2FMGK5D85EBD31213:26700][2FMDK\n"
     ]
    }
   ],
   "source": [
    "with open (DATA_PATH, 'r') as f:\n",
    "    data = f.read()\n",
    "print(data[:400])"
   ]
  },
  {
   "cell_type": "markdown",
   "id": "b393b99b-8f26-4273-99f9-389425152c08",
   "metadata": {},
   "source": [
    "### Выводы и наблюдения\n",
    "- исходя из условий задачи, необходимый вариант VIN-кодов - `American VIN format`;\n",
    "- в предоставленном файле VIN-коды находятся в неудобном для исследования формате:\n",
    "  - необходима очистка и преобразование;\n",
    "- помимо VIN-кодов в файле предоставлены цены."
   ]
  },
  {
   "cell_type": "markdown",
   "id": "d6730ee6-ef55-491a-809d-fc32c81ed1a8",
   "metadata": {},
   "source": [
    "## Подготовка паттерна\n",
    "В соответствии с правилами составления VIN-кодов для американских автомобилей:\n",
    "- современные VIN-коды состоят из 17 символов, которые не содержат букв I, O или Q;\n",
    "- `check digit` - 0-9 or X;\n",
    "- буквы U и Z и цифра 0 не используются для кода года;\n",
    "- позиции 13–17 должны быть цифрами, тогда как позиция 12 может быть буквой или цифрой"
   ]
  },
  {
   "cell_type": "markdown",
   "id": "721eee61-f15e-460b-8f31-88c799048d25",
   "metadata": {},
   "source": [
    "### Разрешённые в VIN-кодах символы"
   ]
  },
  {
   "cell_type": "code",
   "execution_count": 6,
   "id": "d10056f4-aea0-4387-83e3-3ff10eb069c9",
   "metadata": {},
   "outputs": [
    {
     "data": {
      "text/plain": [
       "'ABCDEFGHJKLMNPRSTUVWXYZ1234567890'"
      ]
     },
     "execution_count": 6,
     "metadata": {},
     "output_type": "execute_result"
    }
   ],
   "source": [
    "allowed = r'ABCDEFGHJKLMNPRSTUVWXYZ1234567890'\n",
    "allowed"
   ]
  },
  {
   "cell_type": "markdown",
   "id": "4d17dfb3-a2b4-4ef5-af8e-456c749c749e",
   "metadata": {},
   "source": [
    "### Тестовый образец"
   ]
  },
  {
   "cell_type": "code",
   "execution_count": 7,
   "id": "df4444b6-f814-414e-8303-447251e95187",
   "metadata": {},
   "outputs": [
    {
     "data": {
      "text/plain": [
       "'1FT7X2B6XCEB34867 1FTNF1CF4EKD18628 1GNKRFED3CJ319802 5N1BA08D49N601792 5TFHY5F19CX236781 JN1CV6AR7BM356524 ZFF65LJA9A0170669'"
      ]
     },
     "execution_count": 7,
     "metadata": {},
     "output_type": "execute_result"
    }
   ],
   "source": [
    "vin_sample = '1FT7X2B6XCEB34867 1FTNF1CF4EKD18628 1GNKRFED3CJ319802 5N1BA08D49N601792 5TFHY5F19CX236781 JN1CV6AR7BM356524 ZFF65LJA9A0170669'\n",
    "vin_sample"
   ]
  },
  {
   "cell_type": "markdown",
   "id": "8bfddfed-d313-419b-b12a-daa97a4fa3f0",
   "metadata": {},
   "source": [
    "### Северо-Американский формат VIN"
   ]
  },
  {
   "cell_type": "code",
   "execution_count": 8,
   "id": "c189ecf5-de5a-4abd-af4c-21d6f6d79adb",
   "metadata": {},
   "outputs": [
    {
     "data": {
      "text/html": [
       "<div>\n",
       "<style scoped>\n",
       "    .dataframe tbody tr th:only-of-type {\n",
       "        vertical-align: middle;\n",
       "    }\n",
       "\n",
       "    .dataframe tbody tr th {\n",
       "        vertical-align: top;\n",
       "    }\n",
       "\n",
       "    .dataframe thead th {\n",
       "        text-align: right;\n",
       "    }\n",
       "</style>\n",
       "<table border=\"1\" class=\"dataframe\">\n",
       "  <thead>\n",
       "    <tr style=\"text-align: right;\">\n",
       "      <th></th>\n",
       "      <th>wmi</th>\n",
       "      <th>brake</th>\n",
       "      <th>body</th>\n",
       "      <th>engine</th>\n",
       "      <th>check_digit</th>\n",
       "      <th>year</th>\n",
       "      <th>plant</th>\n",
       "      <th>snum</th>\n",
       "    </tr>\n",
       "  </thead>\n",
       "  <tbody>\n",
       "    <tr>\n",
       "      <th>0</th>\n",
       "      <td>1FT</td>\n",
       "      <td>7</td>\n",
       "      <td>X2B</td>\n",
       "      <td>6</td>\n",
       "      <td>X</td>\n",
       "      <td>C</td>\n",
       "      <td>E</td>\n",
       "      <td>B34867</td>\n",
       "    </tr>\n",
       "    <tr>\n",
       "      <th>1</th>\n",
       "      <td>1FT</td>\n",
       "      <td>N</td>\n",
       "      <td>F1C</td>\n",
       "      <td>F</td>\n",
       "      <td>4</td>\n",
       "      <td>E</td>\n",
       "      <td>K</td>\n",
       "      <td>D18628</td>\n",
       "    </tr>\n",
       "    <tr>\n",
       "      <th>2</th>\n",
       "      <td>1GN</td>\n",
       "      <td>K</td>\n",
       "      <td>RFE</td>\n",
       "      <td>D</td>\n",
       "      <td>3</td>\n",
       "      <td>C</td>\n",
       "      <td>J</td>\n",
       "      <td>319802</td>\n",
       "    </tr>\n",
       "    <tr>\n",
       "      <th>3</th>\n",
       "      <td>5N1</td>\n",
       "      <td>B</td>\n",
       "      <td>A08</td>\n",
       "      <td>D</td>\n",
       "      <td>4</td>\n",
       "      <td>9</td>\n",
       "      <td>N</td>\n",
       "      <td>601792</td>\n",
       "    </tr>\n",
       "    <tr>\n",
       "      <th>4</th>\n",
       "      <td>5TF</td>\n",
       "      <td>H</td>\n",
       "      <td>Y5F</td>\n",
       "      <td>1</td>\n",
       "      <td>9</td>\n",
       "      <td>C</td>\n",
       "      <td>X</td>\n",
       "      <td>236781</td>\n",
       "    </tr>\n",
       "    <tr>\n",
       "      <th>5</th>\n",
       "      <td>JN1</td>\n",
       "      <td>C</td>\n",
       "      <td>V6A</td>\n",
       "      <td>R</td>\n",
       "      <td>7</td>\n",
       "      <td>B</td>\n",
       "      <td>M</td>\n",
       "      <td>356524</td>\n",
       "    </tr>\n",
       "    <tr>\n",
       "      <th>6</th>\n",
       "      <td>ZFF</td>\n",
       "      <td>6</td>\n",
       "      <td>5LJ</td>\n",
       "      <td>A</td>\n",
       "      <td>9</td>\n",
       "      <td>A</td>\n",
       "      <td>0</td>\n",
       "      <td>170669</td>\n",
       "    </tr>\n",
       "  </tbody>\n",
       "</table>\n",
       "</div>"
      ],
      "text/plain": [
       "   wmi brake body engine check_digit year plant    snum\n",
       "0  1FT     7  X2B      6           X    C     E  B34867\n",
       "1  1FT     N  F1C      F           4    E     K  D18628\n",
       "2  1GN     K  RFE      D           3    C     J  319802\n",
       "3  5N1     B  A08      D           4    9     N  601792\n",
       "4  5TF     H  Y5F      1           9    C     X  236781\n",
       "5  JN1     C  V6A      R           7    B     M  356524\n",
       "6  ZFF     6  5LJ      A           9    A     0  170669"
      ]
     },
     "execution_count": 8,
     "metadata": {},
     "output_type": "execute_result"
    }
   ],
   "source": [
    "wmi_pattern = r'(?P<wmi>[ABCDEFGHJKLMNPRSTUVWXYZ1234567890]{3})'  # pos. 1-3\n",
    "brake_pattern = r'(?P<brake>[ABCDEFGHJKLMNPRSTUVWXYZ1234567890])' # pos. 4\n",
    "body_pattern = r'(?P<body>[ABCDEFGHJKLMNPRSTUVWXYZ1234567890]{3})'  # pos. 5-7\n",
    "engine_pattern = r'(?P<engine>[ABCDEFGHJKLMNPRSTUVWXYZ1234567890])'  # pos. 8\n",
    "check_digit_pattern = r'(?P<check_digit>[ABCDEFGHJKLMNPRSTUVWXYZ1234567890])'  # pos. 9\n",
    "year_pattern = r'(?P<year>[ABCDEFGHJKLMNPRSTUVWXYZ1234567890])'.replace('U', '').replace('Z', '').replace('0', '')  # pos. 10\n",
    "plant_pattern = r'(?P<plant>[ABCDEFGHJKLMNPRSTUVWXYZ1234567890])'  # pos. 11\n",
    "snum_pattern = r'(?P<snum>[ABCDEFGHJKLMNPRSTUVWXYZ1234567890]\\d{5})'  # pos. 12-17\n",
    "pattern = f'{wmi_pattern}{brake_pattern}{body_pattern}{engine_pattern}{check_digit_pattern}{year_pattern}{plant_pattern}{snum_pattern}'\n",
    "pd.DataFrame([x.groupdict() for x in re.compile(pattern).finditer(vin_sample)])"
   ]
  },
  {
   "cell_type": "markdown",
   "id": "0d487366-13e6-4542-8a18-f665cdc35f2e",
   "metadata": {},
   "source": [
    "### Извлечение производителя из VIN-кода"
   ]
  },
  {
   "cell_type": "code",
   "execution_count": 9,
   "id": "c3c8fbdd-3300-4d83-af03-70cf33187970",
   "metadata": {},
   "outputs": [
    {
     "data": {
      "text/plain": [
       "['1FT', '1FT', '1GN', '5N1', '5TF', 'JN1', 'ZFF']"
      ]
     },
     "execution_count": 9,
     "metadata": {},
     "output_type": "execute_result"
    }
   ],
   "source": [
    "pattern = r'''\n",
    "    \\b(?P<wmi>[ABCDEFGHJKLMNPRSTUVWXYZ1234567890]{3})  # три первые элемента слова, принадлежащие такому набору\n",
    "    [ABCDEFGHJKLMNPRSTUVWXYZ1234567890]{14}\\b          # исключение 14-ти последующих элементов слова, принадлежащих набору\n",
    "'''\n",
    "re.compile(pattern, re.X).findall(vin_sample)"
   ]
  },
  {
   "cell_type": "markdown",
   "id": "c4c55afd-37bf-4c5f-9c3e-933862eb8c9b",
   "metadata": {},
   "source": [
    "### Поиск всех VIN-кодов определенной марки автомобиля на примере Ferrari\n",
    "- Вин-коды Феррари ZDF, ZFF, ZSG"
   ]
  },
  {
   "cell_type": "code",
   "execution_count": 10,
   "id": "2d800abd-8814-425c-a163-f71e18ebd33e",
   "metadata": {},
   "outputs": [
    {
     "data": {
      "text/plain": [
       "['ZFF65LJA9A0170669']"
      ]
     },
     "execution_count": 10,
     "metadata": {},
     "output_type": "execute_result"
    }
   ],
   "source": [
    "ferrari_wmi = ['ZDF', 'ZFF', 'ZSG']\n",
    "wmi_pattern = '|'.join(ferrari_wmi)\n",
    "pattern = re.compile(f'\\\\b(?:{wmi_pattern})[ABCDEFGHJKLMNPRSTUVWXYZ1234567890]{{14}}\\\\b')\n",
    "pattern.findall(vin_sample)"
   ]
  },
  {
   "cell_type": "markdown",
   "id": "1f04b4f6-d374-4580-84f2-97d8f6fb8265",
   "metadata": {},
   "source": [
    "### Поиск VIN-кодов с определенным регионом\n",
    "Северная Америка как регион (США, Канада, Мексика)\n",
    "\n",
    "    1, 4, 5 = United States\n",
    "    2 = Canada\n",
    "    3 = Mexico\n",
    "    7F-70 = United States"
   ]
  },
  {
   "cell_type": "markdown",
   "id": "0c196773-0de9-4a1b-b9ee-bda57f41fa58",
   "metadata": {},
   "source": [
    "Североамериканские машины"
   ]
  },
  {
   "cell_type": "code",
   "execution_count": 11,
   "id": "3f57886c-3865-47be-84a8-3e6f246a5a2c",
   "metadata": {},
   "outputs": [
    {
     "data": {
      "text/plain": [
       "['1FT7X2B6XCEB34867',\n",
       " '1FTNF1CF4EKD18628',\n",
       " '1GNKRFED3CJ319802',\n",
       " '5N1BA08D49N601792',\n",
       " '5TFHY5F19CX236781']"
      ]
     },
     "execution_count": 11,
     "metadata": {},
     "output_type": "execute_result"
    }
   ],
   "source": [
    "pattern = r'''\n",
    "    \\b(?:1|4|5|7F|70)[ABCDEFGHJKLMNPRSTUVWXYZ1234567890]{16}\\b\n",
    "    |\\b2[ABCDEFGHJKLMNPRSTUVWXYZ1234567890]{16}\\b\n",
    "    |\\b3[ABCDEFGHJKLMNPRSTUVWXYZ1234567890]{16}\\b\n",
    "    '''\n",
    "re.compile(pattern, re.X).findall(vin_sample)"
   ]
  },
  {
   "cell_type": "markdown",
   "id": "e376116f-8700-412b-a963-f79f148afcbc",
   "metadata": {},
   "source": [
    "Машины из любых других регионов (не Сев.Америка)"
   ]
  },
  {
   "cell_type": "code",
   "execution_count": 12,
   "id": "2bb717e2-6f42-4d45-b438-994498699bd5",
   "metadata": {},
   "outputs": [
    {
     "data": {
      "text/plain": [
       "['JN1CV6AR7BM356524', 'ZFF65LJA9A0170669']"
      ]
     },
     "execution_count": 12,
     "metadata": {},
     "output_type": "execute_result"
    }
   ],
   "source": [
    "pattern = re.compile(r'\\b(?!(?:1|4|5|7F|70|2|3)[ABCDEFGHJKLMNPRSTUVWXYZ1234567890]{16})[ABCDEFGHJKLMNPRSTUVWXYZ1234567890]{17}\\b')\n",
    "pattern.findall(vin_sample)"
   ]
  },
  {
   "cell_type": "markdown",
   "id": "a2d6d5a5-7026-4262-a0c8-c82a5ae2c8d8",
   "metadata": {},
   "source": [
    "### Извлечение года из VIN-кода только североамериканских машин\n",
    "- В североамериканском вине год 10й знак\n",
    "- в кодировке года не используются знаки U и Z в дополнение к запрещенным I, O, Q"
   ]
  },
  {
   "cell_type": "code",
   "execution_count": 13,
   "id": "8d6a4c37-17f3-4dd1-9e73-15f3941f8890",
   "metadata": {},
   "outputs": [
    {
     "data": {
      "text/plain": [
       "['C', 'E', 'C', '9', 'C']"
      ]
     },
     "execution_count": 13,
     "metadata": {},
     "output_type": "execute_result"
    }
   ],
   "source": [
    "pattern = r'''\n",
    "    \\b(?:1|4|5|7F|70)[ABCDEFGHJKLMNPRSTUVWXYZ1234567890]{16}\\b\n",
    "    |\\b2[ABCDEFGHJKLMNPRSTUVWXYZ1234567890]{16}\\b\n",
    "    |\\b3[ABCDEFGHJKLMNPRSTUVWXYZ1234567890]{16}\\b\n",
    "'''\n",
    "[x[9] for x in re.compile(pattern, re.X).findall(vin_sample)]"
   ]
  },
  {
   "cell_type": "markdown",
   "id": "937c30ea-9fdf-4d81-a323-5ff920d48d9f",
   "metadata": {},
   "source": [
    "Для проверки выведем весь датафрейм компонентов VIN кода"
   ]
  },
  {
   "cell_type": "code",
   "execution_count": 14,
   "id": "84b53da7-3597-4f47-a9b6-bdd9549fdc55",
   "metadata": {},
   "outputs": [
    {
     "data": {
      "text/html": [
       "<div>\n",
       "<style scoped>\n",
       "    .dataframe tbody tr th:only-of-type {\n",
       "        vertical-align: middle;\n",
       "    }\n",
       "\n",
       "    .dataframe tbody tr th {\n",
       "        vertical-align: top;\n",
       "    }\n",
       "\n",
       "    .dataframe thead th {\n",
       "        text-align: right;\n",
       "    }\n",
       "</style>\n",
       "<table border=\"1\" class=\"dataframe\">\n",
       "  <thead>\n",
       "    <tr style=\"text-align: right;\">\n",
       "      <th></th>\n",
       "      <th>wmi</th>\n",
       "      <th>brake</th>\n",
       "      <th>body</th>\n",
       "      <th>engine</th>\n",
       "      <th>check_digit</th>\n",
       "      <th>year</th>\n",
       "      <th>plant</th>\n",
       "      <th>snum</th>\n",
       "    </tr>\n",
       "  </thead>\n",
       "  <tbody>\n",
       "    <tr>\n",
       "      <th>0</th>\n",
       "      <td>1FT</td>\n",
       "      <td>7</td>\n",
       "      <td>X2B</td>\n",
       "      <td>6</td>\n",
       "      <td>X</td>\n",
       "      <td>C</td>\n",
       "      <td>E</td>\n",
       "      <td>B34867</td>\n",
       "    </tr>\n",
       "    <tr>\n",
       "      <th>1</th>\n",
       "      <td>1FT</td>\n",
       "      <td>N</td>\n",
       "      <td>F1C</td>\n",
       "      <td>F</td>\n",
       "      <td>4</td>\n",
       "      <td>E</td>\n",
       "      <td>K</td>\n",
       "      <td>D18628</td>\n",
       "    </tr>\n",
       "    <tr>\n",
       "      <th>2</th>\n",
       "      <td>1GN</td>\n",
       "      <td>K</td>\n",
       "      <td>RFE</td>\n",
       "      <td>D</td>\n",
       "      <td>3</td>\n",
       "      <td>C</td>\n",
       "      <td>J</td>\n",
       "      <td>319802</td>\n",
       "    </tr>\n",
       "    <tr>\n",
       "      <th>3</th>\n",
       "      <td>5N1</td>\n",
       "      <td>B</td>\n",
       "      <td>A08</td>\n",
       "      <td>D</td>\n",
       "      <td>4</td>\n",
       "      <td>9</td>\n",
       "      <td>N</td>\n",
       "      <td>601792</td>\n",
       "    </tr>\n",
       "    <tr>\n",
       "      <th>4</th>\n",
       "      <td>5TF</td>\n",
       "      <td>H</td>\n",
       "      <td>Y5F</td>\n",
       "      <td>1</td>\n",
       "      <td>9</td>\n",
       "      <td>C</td>\n",
       "      <td>X</td>\n",
       "      <td>236781</td>\n",
       "    </tr>\n",
       "    <tr>\n",
       "      <th>5</th>\n",
       "      <td>JN1</td>\n",
       "      <td>C</td>\n",
       "      <td>V6A</td>\n",
       "      <td>R</td>\n",
       "      <td>7</td>\n",
       "      <td>B</td>\n",
       "      <td>M</td>\n",
       "      <td>356524</td>\n",
       "    </tr>\n",
       "    <tr>\n",
       "      <th>6</th>\n",
       "      <td>ZFF</td>\n",
       "      <td>6</td>\n",
       "      <td>5LJ</td>\n",
       "      <td>A</td>\n",
       "      <td>9</td>\n",
       "      <td>A</td>\n",
       "      <td>0</td>\n",
       "      <td>170669</td>\n",
       "    </tr>\n",
       "  </tbody>\n",
       "</table>\n",
       "</div>"
      ],
      "text/plain": [
       "   wmi brake body engine check_digit year plant    snum\n",
       "0  1FT     7  X2B      6           X    C     E  B34867\n",
       "1  1FT     N  F1C      F           4    E     K  D18628\n",
       "2  1GN     K  RFE      D           3    C     J  319802\n",
       "3  5N1     B  A08      D           4    9     N  601792\n",
       "4  5TF     H  Y5F      1           9    C     X  236781\n",
       "5  JN1     C  V6A      R           7    B     M  356524\n",
       "6  ZFF     6  5LJ      A           9    A     0  170669"
      ]
     },
     "execution_count": 14,
     "metadata": {},
     "output_type": "execute_result"
    }
   ],
   "source": [
    "wmi_pattern = r'(?P<wmi>[ABCDEFGHJKLMNPRSTUVWXYZ1234567890]{3})'  # pos. 1-3\n",
    "brake_pattern = r'(?P<brake>[ABCDEFGHJKLMNPRSTUVWXYZ1234567890])' # pos. 4\n",
    "body_pattern = r'(?P<body>[ABCDEFGHJKLMNPRSTUVWXYZ1234567890]{3})'  # pos. 5-7\n",
    "engine_pattern = r'(?P<engine>[ABCDEFGHJKLMNPRSTUVWXYZ1234567890])'  # pos. 8\n",
    "check_digit_pattern = r'(?P<check_digit>[ABCDEFGHJKLMNPRSTUVWXYZ1234567890])'  # pos. 9\n",
    "year_pattern = r'(?P<year>[ABCDEFGHJKLMNPRSTUVWXYZ1234567890])'.replace('U', '').replace('Z', '').replace('0', '')  # pos. 10\n",
    "plant_pattern = r'(?P<plant>[ABCDEFGHJKLMNPRSTUVWXYZ1234567890])'  # pos. 11\n",
    "snum_pattern = r'(?P<snum>[ABCDEFGHJKLMNPRSTUVWXYZ1234567890]\\d{5})'  # pos. 12-17\n",
    "pattern = f'{wmi_pattern}{brake_pattern}{body_pattern}{engine_pattern}{check_digit_pattern}{year_pattern}{plant_pattern}{snum_pattern}'\n",
    "pd.DataFrame([x.groupdict() for x in re.compile(pattern).finditer(vin_sample)])"
   ]
  },
  {
   "cell_type": "markdown",
   "id": "90051d8b-3af5-42a0-9d0b-ae64a9ecf03a",
   "metadata": {},
   "source": [
    "### Проверка корректности формата VIN-кода\n",
    "\n",
    "- Вин-код состоит из 17 знаков – цифр и букв, кроме 'I', 'O', 'Q'\n",
    "- Последние три знака – всегда цифры\n",
    "\n",
    "Создадим набор винов, где только один вин валидный и остальные ошибочные\n",
    "- отрежем один знак\n",
    "- добавим лишний знак\n",
    "- заменим буквой последнюю цифру в номере\n",
    "- заменим разрешенный знак на неразрешенный"
   ]
  },
  {
   "cell_type": "code",
   "execution_count": 15,
   "id": "3e4f3d3b-b3ca-47df-a218-399a6e797067",
   "metadata": {},
   "outputs": [
    {
     "data": {
      "text/plain": [
       "'1FT7X2B6XCEB34867 1FTNF1CF4EKD18628 1GNKRFED3CJ319802 5N1BA08D49N601792 5TFHY5F19CX236781 JN1CV6AR7BM356524 ZFF65LJA9A0170669 3LN6L2GKXDR811732 BAAM3334XKC59086 1N4BL11D84C1859519 1C4RJEBG5EC48287Q QN1AB7AP5EL654699'"
      ]
     },
     "execution_count": 15,
     "metadata": {},
     "output_type": "execute_result"
    }
   ],
   "source": [
    "error_sample = vin_sample + ' 3LN6L2GKXDR811732 BAAM3334XKC59086 1N4BL11D84C1859519 1C4RJEBG5EC48287Q QN1AB7AP5EL654699'\n",
    "error_sample"
   ]
  },
  {
   "cell_type": "markdown",
   "id": "2d35aae8-a1e2-4748-b4c4-163dcda81fc5",
   "metadata": {},
   "source": [
    "Валидные VIN-коды"
   ]
  },
  {
   "cell_type": "code",
   "execution_count": 16,
   "id": "317c0ef3-28a4-41cb-8066-79d12a6d6c60",
   "metadata": {},
   "outputs": [
    {
     "data": {
      "text/plain": [
       "['1FT7X2B6XCEB34867',\n",
       " '1FTNF1CF4EKD18628',\n",
       " '1GNKRFED3CJ319802',\n",
       " '5N1BA08D49N601792',\n",
       " '5TFHY5F19CX236781',\n",
       " 'JN1CV6AR7BM356524',\n",
       " 'ZFF65LJA9A0170669',\n",
       " '3LN6L2GKXDR811732']"
      ]
     },
     "execution_count": 16,
     "metadata": {},
     "output_type": "execute_result"
    }
   ],
   "source": [
    "pattern = re.compile(r'\\b[ABCDEFGHJKLMNPRSTUVWXYZ1234567890]{14}\\d{3}\\b')\n",
    "pattern.findall(error_sample)"
   ]
  },
  {
   "cell_type": "markdown",
   "id": "bd657409-b572-4714-b30d-4fff4c92126e",
   "metadata": {},
   "source": [
    "Не валидные VIN-коды"
   ]
  },
  {
   "cell_type": "code",
   "execution_count": 17,
   "id": "b4e0e067-c2ca-477b-a6a8-46b47e00c5db",
   "metadata": {},
   "outputs": [
    {
     "data": {
      "text/plain": [
       "['BAAM3334XKC59086',\n",
       " '1N4BL11D84C1859519',\n",
       " '1C4RJEBG5EC48287Q',\n",
       " 'QN1AB7AP5EL654699']"
      ]
     },
     "execution_count": 17,
     "metadata": {},
     "output_type": "execute_result"
    }
   ],
   "source": [
    "pattern = re.compile(r'(?!\\b[ABCDEFGHJKLMNPRSTUVWXYZ1234567890]{14}\\d{3}\\b)\\b\\w+\\b')\n",
    "\n",
    "pattern.findall(error_sample)"
   ]
  },
  {
   "cell_type": "markdown",
   "id": "719b94dc-e3f6-4ef5-8dfe-ac23ad3d6668",
   "metadata": {},
   "source": [
    "### Автомобили Ford"
   ]
  },
  {
   "cell_type": "code",
   "execution_count": 18,
   "id": "43989b59-65ef-48b3-a792-c52b69a09201",
   "metadata": {},
   "outputs": [],
   "source": [
    "ford_wmi = {\n",
    "    'AFA': 'Ford Motor Company of Southern Africa & Samcor',\n",
    "    'AFB': 'Mazda BT-50 made by Ford Motor Company of Southern Africa',\n",
    "    'JC0': 'Ford brand cars made by Mazda',\n",
    "    'JC2': 'Ford Courier made by Mazda',\n",
    "    'KNJ': 'Ford Festiva & Aspire made by Kia',\n",
    "    'LJX': 'JMC Ford',\n",
    "    'LVS': 'Changan Ford & Changan Ford Mazda',\n",
    "    'MAJ': 'Ford India',\n",
    "    'MNB': 'Ford Thailand',\n",
    "    'NM0': 'Ford Otosan',\n",
    "    'PE1': 'Ford Motor Company Philippines',\n",
    "    'PE3': 'Mazda Philippines made by Ford Motor Company Philippines',\n",
    "    'PR8': 'Ford',\n",
    "    'LFA': 'Ford Lio Ho Motor Co Ltd. old designation',\n",
    "    'RHA': 'Ford Lio Ho Motor Co Ltd. new designation',\n",
    "    'RL0': 'Ford Vietnam',\n",
    "    'SBC': 'Iveco Ford Truck',\n",
    "    'SFA': 'Ford UK',\n",
    "    'VSK': 'Nissan Motor Iberica SA, Nissan passenger car/MPV/van/SUV/pickup & Ford Maverick 1993–1999',\n",
    "    'VS6': 'Ford Spain',\n",
    "    'WF0': 'Ford Germany',\n",
    "    'X9F': 'Ford Motor Company ZAO',\n",
    "    'Z6F': 'Ford Sollers (Russia)',\n",
    "    '1FA': 'Ford car',\n",
    "    '1FB': 'Ford \"bus\" (van with more than 3 rows of seats)',\n",
    "    '1FC': 'Ford stripped chassis made by Ford',\n",
    "    '1FD': 'Ford incomplete vehicle',\n",
    "    '1FM': 'Ford MPV/SUV',\n",
    "    '1FT': 'Ford truck',\n",
    "    '1F1': 'Ford SUV - Limousine (through 2009)',\n",
    "    '1F6': 'Ford stripped chassis made by Detroit Chassis LLC',\n",
    "    '1ZV': 'Ford made by AutoAlliance International',\n",
    "    '2FA': 'Ford car',\n",
    "    '2FM': 'Ford MPV/SUV',\n",
    "    '2FT': 'Ford truck',\n",
    "    '3FA': 'Ford car',\n",
    "    '3FC': 'Ford stripped chassis made by Ford & IMMSA',\n",
    "    '3FE': 'Ford Mexico',\n",
    "    '3FM': 'Ford MPV/SUV',\n",
    "    '3FN': 'Ford F-650/F-750 made by Blue Diamond Truck Co. (truck)',\n",
    "    '3FR': 'Ford F-650/F-750 made by Blue Diamond Truck Co. (incomplete vehicle)',\n",
    "    '3FT': 'Ford truck',\n",
    "    '4F2': 'Mazda SUV made by Ford',\n",
    "    '4F4': 'Mazda truck made by Ford',\n",
    "    '4N2': 'Nissan Quest made by Ford',\n",
    "    '5LD': 'Ford & Lincoln incomplete vehicle – limousine (2010–2014)',\n",
    "    '6F1': 'Ford',\n",
    "    '6FP': 'Ford Australia',\n",
    "    '7A5': 'Ford New Zealand',\n",
    "    '8AF': 'Ford Argentina',\n",
    "    '9BF': 'Ford Brazil',\n",
    "}"
   ]
  },
  {
   "cell_type": "code",
   "execution_count": 19,
   "id": "7c0bfe1d-8546-4b11-af1a-0046ccc79224",
   "metadata": {},
   "outputs": [],
   "source": [
    "ford_groups = {\n",
    "    'P': 'All Ford, Mercury, Merkur, and Lincoln passenger cars 1981-1986, Ford-brand passenger cars made in North America at a factory owned 100% by Ford Motor Co. 1987-2009',\n",
    "    'M': 'Mercury & Lincoln passenger cars made in North America at a factory owned 100% by Ford Motor Co. 1987-2009. Mercury passenger cars 2010-2011',\n",
    "    'T': 'Ford, Mercury, and Merkur passenger cars made outside North America or made in North America at a factory not owned 100% by Ford Motor Co. 1987-2009 (Ford Festiva, Aspire, Probe, & \\'05-\\'09 Mustang, Mercury Capri \\'91-\\'94, & Cougar \\'99-\\'02, Merkur XR4Ti \\'87-\\'89 and Scorpio \\'88-\\'89)',\n",
    "    'P': 'Ford-brand passenger cars 2010-',\n",
    "    'L': 'Lincoln passenger cars 2010-2020',\n",
    "}"
   ]
  },
  {
   "cell_type": "markdown",
   "id": "14c94dfe-dd24-47d9-850e-8193db71d671",
   "metadata": {},
   "source": [
    "Отбор автомобилей FORD"
   ]
  },
  {
   "cell_type": "code",
   "execution_count": 20,
   "id": "0692d93c-4fa8-4632-96eb-613e764f9065",
   "metadata": {},
   "outputs": [
    {
     "data": {
      "text/plain": [
       "['1FT7X2B6XCEB34867', '1FTNF1CF4EKD18628']"
      ]
     },
     "execution_count": 20,
     "metadata": {},
     "output_type": "execute_result"
    }
   ],
   "source": [
    "ford_wmi_pattern = '|'.join(ford_wmi.keys())\n",
    "pattern = f'\\\\b(?:{ford_wmi_pattern})[ABCDEFGHJKLMNPRSTUVWXYZ1234567890]{{14}}\\\\b'\n",
    "re.compile(pattern).findall(vin_sample)"
   ]
  },
  {
   "cell_type": "markdown",
   "id": "afa5e888-3dec-41c5-8cee-cbb0d168d69f",
   "metadata": {},
   "source": [
    "### Выводы и наблюдения\n",
    "- проведено исследование для подготовки скрипта, извлекающего необходимые VIN-коды;\n",
    "- подготовлен и протестирован код для парсинга."
   ]
  },
  {
   "cell_type": "markdown",
   "id": "a75f280f-8459-4d8f-88b6-c6e79df937b7",
   "metadata": {},
   "source": [
    "## Подготовка датафрейма и первичный анализ данных"
   ]
  },
  {
   "cell_type": "markdown",
   "id": "3b5e5709-a4e2-4e31-8833-d58a4d55d56e",
   "metadata": {},
   "source": [
    "Создание экземпляра исследовательского класса"
   ]
  },
  {
   "cell_type": "code",
   "execution_count": 5,
   "id": "32cbca7c-1235-451d-9503-f567c8cdec4a",
   "metadata": {},
   "outputs": [],
   "source": [
    "data_explorer = DatasetExplorer(DATA_PATH=DATA_PATH)"
   ]
  },
  {
   "cell_type": "markdown",
   "id": "8655ea96-1e03-4450-8dc2-6c9b545ec31e",
   "metadata": {},
   "source": [
    "Создание датафрейма, проведение анализа"
   ]
  },
  {
   "cell_type": "code",
   "execution_count": 6,
   "id": "e2274e3f-07e2-4265-9dac-41c1a326e32a",
   "metadata": {},
   "outputs": [
    {
     "name": "stdout",
     "output_type": "stream",
     "text": [
      "Верхние пять строк датафрейма:\n",
      "\n"
     ]
    },
    {
     "data": {
      "text/html": [
       "<div>\n",
       "<style scoped>\n",
       "    .dataframe tbody tr th:only-of-type {\n",
       "        vertical-align: middle;\n",
       "    }\n",
       "\n",
       "    .dataframe tbody tr th {\n",
       "        vertical-align: top;\n",
       "    }\n",
       "\n",
       "    .dataframe thead th {\n",
       "        text-align: right;\n",
       "    }\n",
       "</style>\n",
       "<table border=\"1\" class=\"dataframe\">\n",
       "  <thead>\n",
       "    <tr style=\"text-align: right;\">\n",
       "      <th></th>\n",
       "      <th>wmi</th>\n",
       "      <th>brake</th>\n",
       "      <th>body</th>\n",
       "      <th>engine</th>\n",
       "      <th>check_digit</th>\n",
       "      <th>year</th>\n",
       "      <th>plant</th>\n",
       "      <th>snum</th>\n",
       "      <th>price</th>\n",
       "    </tr>\n",
       "  </thead>\n",
       "  <tbody>\n",
       "    <tr>\n",
       "      <th>0</th>\n",
       "      <td>2FM</td>\n",
       "      <td>D</td>\n",
       "      <td>K3J</td>\n",
       "      <td>C</td>\n",
       "      <td>4</td>\n",
       "      <td>B</td>\n",
       "      <td>B</td>\n",
       "      <td>A41556</td>\n",
       "      <td>12500</td>\n",
       "    </tr>\n",
       "    <tr>\n",
       "      <th>1</th>\n",
       "      <td>3FA</td>\n",
       "      <td>6</td>\n",
       "      <td>P0H</td>\n",
       "      <td>7</td>\n",
       "      <td>5</td>\n",
       "      <td>E</td>\n",
       "      <td>R</td>\n",
       "      <td>208976</td>\n",
       "      <td>14500</td>\n",
       "    </tr>\n",
       "    <tr>\n",
       "      <th>2</th>\n",
       "      <td>3FA</td>\n",
       "      <td>H</td>\n",
       "      <td>P08</td>\n",
       "      <td>Z</td>\n",
       "      <td>1</td>\n",
       "      <td>7</td>\n",
       "      <td>R</td>\n",
       "      <td>268380</td>\n",
       "      <td>1300</td>\n",
       "    </tr>\n",
       "    <tr>\n",
       "      <th>3</th>\n",
       "      <td>1FM</td>\n",
       "      <td>C</td>\n",
       "      <td>U0G</td>\n",
       "      <td>X</td>\n",
       "      <td>3</td>\n",
       "      <td>D</td>\n",
       "      <td>U</td>\n",
       "      <td>C59421</td>\n",
       "      <td>15200</td>\n",
       "    </tr>\n",
       "    <tr>\n",
       "      <th>4</th>\n",
       "      <td>1FA</td>\n",
       "      <td>H</td>\n",
       "      <td>P2E</td>\n",
       "      <td>8</td>\n",
       "      <td>9</td>\n",
       "      <td>D</td>\n",
       "      <td>G</td>\n",
       "      <td>119368</td>\n",
       "      <td>11600</td>\n",
       "    </tr>\n",
       "  </tbody>\n",
       "</table>\n",
       "</div>"
      ],
      "text/plain": [
       "   wmi brake body engine check_digit year plant    snum  price\n",
       "0  2FM     D  K3J      C           4    B     B  A41556  12500\n",
       "1  3FA     6  P0H      7           5    E     R  208976  14500\n",
       "2  3FA     H  P08      Z           1    7     R  268380   1300\n",
       "3  1FM     C  U0G      X           3    D     U  C59421  15200\n",
       "4  1FA     H  P2E      8           9    D     G  119368  11600"
      ]
     },
     "metadata": {},
     "output_type": "display_data"
    },
    {
     "name": "stdout",
     "output_type": "stream",
     "text": [
      "\n",
      "Общая информация по датафрейму:\n",
      "\n",
      "<class 'pandas.core.frame.DataFrame'>\n",
      "RangeIndex: 71884 entries, 0 to 71883\n",
      "Data columns (total 9 columns):\n",
      " #   Column       Non-Null Count  Dtype \n",
      "---  ------       --------------  ----- \n",
      " 0   wmi          71884 non-null  object\n",
      " 1   brake        71884 non-null  object\n",
      " 2   body         71884 non-null  object\n",
      " 3   engine       71884 non-null  object\n",
      " 4   check_digit  71884 non-null  object\n",
      " 5   year         71884 non-null  object\n",
      " 6   plant        71884 non-null  object\n",
      " 7   snum         71884 non-null  object\n",
      " 8   price        71884 non-null  int64 \n",
      "dtypes: int64(1), object(8)\n",
      "memory usage: 4.9+ MB\n",
      "\n",
      "Количество дубликатов: 0\n",
      "\n",
      "Количество уникальных значений в каждом признаке:\n",
      "\n"
     ]
    },
    {
     "data": {
      "text/plain": [
       "wmi               14\n",
       "brake             26\n",
       "body             365\n",
       "engine            32\n",
       "check_digit       11\n",
       "year              25\n",
       "plant             21\n",
       "snum           68215\n",
       "price            643\n",
       "dtype: int64"
      ]
     },
     "metadata": {},
     "output_type": "display_data"
    },
    {
     "name": "stdout",
     "output_type": "stream",
     "text": [
      "\n",
      "Анализ целевой переменной:\n",
      "\n"
     ]
    },
    {
     "data": {
      "text/plain": [
       "count    71884.000000\n",
       "mean     14321.449377\n",
       "std       7827.057238\n",
       "min       1000.000000\n",
       "25%       8800.000000\n",
       "50%      13500.000000\n",
       "75%      19500.000000\n",
       "max      36500.000000\n",
       "Name: price, dtype: float64"
      ]
     },
     "metadata": {},
     "output_type": "display_data"
    },
    {
     "data": {
      "image/png": "[encoded data removed]",
      "text/plain": [
       "<Figure size 1400x600 with 1 Axes>"
      ]
     },
     "metadata": {},
     "output_type": "display_data"
    },
    {
     "data": {
      "image/png": "[encoded data removed]",
      "text/plain": [
       "<Figure size 1400x600 with 1 Axes>"
      ]
     },
     "metadata": {},
     "output_type": "display_data"
    },
    {
     "data": {
      "image/png": "[encoded data removed]",
      "text/plain": [
       "<Figure size 1000x1000 with 2 Axes>"
      ]
     },
     "metadata": {},
     "output_type": "display_data"
    }
   ],
   "source": [
    "df = data_explorer.explore_dataset(assets_dir=ASSETS_DIR)"
   ]
  },
  {
   "cell_type": "markdown",
   "id": "84a53ac7-876c-4e7d-b629-9daad1dba913",
   "metadata": {},
   "source": [
    "### Выводы и наблюдения\n",
    "- на основании предоставленного файла создан датафрейм,\n",
    "  <br>состоящий из частей VIN-кодов и цен автомобилей;\n",
    "- общее количество записей в датафрейме - 71884;\n",
    "- дубликатов не обнаружено;\n",
    "- почти все признаки относятся к категориальным;\n",
    "- цены на автомобили варьируются от 1000 до 36500 единиц,\n",
    "  <br>с большинством автомобилей имеющих цену в диапазоне от 8800 до 19500 единиц;\n",
    "- средняя цена находится близко к медианной цене, что может указывать на отсутствие сильных выбросов в данных -\n",
    "  <br>данное предположение подтверждается диаграммой \"ящик с усами\";\n",
    "- практически между всеми признаками имеются зависимости, возможно, над этим придётся поработать."
   ]
  },
  {
   "cell_type": "markdown",
   "id": "20d451e5-2dab-4462-a87c-2fc842b26a3d",
   "metadata": {},
   "source": [
    "## Подготовка данных для обучения модели"
   ]
  },
  {
   "cell_type": "code",
   "execution_count": 7,
   "id": "c96ed9d6-9282-4ba2-933e-dd2ea06fef09",
   "metadata": {},
   "outputs": [
    {
     "name": "stdout",
     "output_type": "stream",
     "text": [
      "Размер обучающего набора данных: (57507, 8)\n",
      "Размер тестового набора данных: (14377, 8)\n"
     ]
    }
   ],
   "source": [
    "X_train, X_test, y_train, y_test = data_explorer.data_preparing(dataset=df, target='price', test_size=0.2)"
   ]
  },
  {
   "cell_type": "markdown",
   "id": "25bc2a70-cd75-44a8-b517-86846f1d4f35",
   "metadata": {},
   "source": [
    "### Выводы и наблюдения\n",
    "- произведено разделение данных на выборки;\n",
    "- произведено кодирование данных для моделей"
   ]
  },
  {
   "cell_type": "markdown",
   "id": "b7b57f6c-26ba-4e8f-a00c-e834ef5380ce",
   "metadata": {},
   "source": [
    "## Обучение моделей"
   ]
  },
  {
   "cell_type": "markdown",
   "id": "dae39573-fa7e-452c-8dd0-d109456be3a2",
   "metadata": {},
   "source": [
    "### Baseline"
   ]
  },
  {
   "cell_type": "code",
   "execution_count": 8,
   "id": "507c84d5-36ae-4f3f-b1d2-ca788d6f329f",
   "metadata": {},
   "outputs": [
    {
     "name": "stdout",
     "output_type": "stream",
     "text": [
      "Результаты кросс-валидации: {'fit_time': 0.021, 'score_time': 0.005, 'test_neg_mean_squared_error': 30475394.373, 'test_r2': 0.502, 'test_neg_mean_absolute_error': 4035.195, 'test_neg_mean_absolute_percentage_error': 0.581}\n"
     ]
    }
   ],
   "source": [
    "params = {'fit_intercept':True,\n",
    "          'copy_X':True,\n",
    "          'n_jobs':-1,\n",
    "          'positive':False}\n",
    "cv_res, model = data_explorer.model_fitting(model_name='Baseline', features=X_train, labels=y_train, params=params, cv=4)"
   ]
  },
  {
   "cell_type": "markdown",
   "id": "e57c6618-5337-4604-9784-6679f98fe724",
   "metadata": {},
   "source": [
    "### Linear Regression"
   ]
  },
  {
   "cell_type": "code",
   "execution_count": 12,
   "id": "af44e614-e921-4a99-923d-4834ca9e958a",
   "metadata": {},
   "outputs": [
    {
     "name": "stdout",
     "output_type": "stream",
     "text": [
      "Результаты кросс-валидации: {'test_neg_mean_squared_error': 136230189.195, 'test_r2': -1.228, 'test_neg_mean_absolute_error': 9386.676, 'test_neg_mean_absolute_percentage_error': 1.069}\n",
      "\n",
      "Лучшие гиперпараметры: {'copy_X': True, 'fit_intercept': True, 'n_jobs': -1, 'positive': False}\n"
     ]
    }
   ],
   "source": [
    "params = {'fit_intercept': [True, False],\n",
    "          'copy_X': [True, False],\n",
    "          'n_jobs': [-1],\n",
    "          'positive': [True, False]}\n",
    "cv_res, model, params = data_explorer.model_fitting(model_name='LinearRegression',\n",
    "                                                    features=X_train,\n",
    "                                                    labels=y_train,\n",
    "                                                    params=params,\n",
    "                                                    cv=4)"
   ]
  },
  {
   "cell_type": "markdown",
   "id": "7d1a02c9-4a0f-4fbd-8242-472b8b0483fd",
   "metadata": {},
   "source": [
    "### Random Forest"
   ]
  },
  {
   "cell_type": "code",
   "execution_count": 13,
   "id": "f55cdbcf-45ee-4fae-977b-390865077332",
   "metadata": {},
   "outputs": [
    {
     "name": "stdout",
     "output_type": "stream",
     "text": [
      "Результаты кросс-валидации: {'test_neg_mean_squared_error': 16800978.901, 'test_r2': 0.725, 'test_neg_mean_absolute_error': 2907.04, 'test_neg_mean_absolute_percentage_error': 0.337}\n",
      "\n",
      "Лучшие гиперпараметры: {'bootstrap': True, 'criterion': 'friedman_mse', 'max_depth': None, 'n_estimators': 150, 'n_jobs': -1, 'random_state': 42}\n"
     ]
    }
   ],
   "source": [
    "params = {'n_estimators': [100, 150],\n",
    "          'criterion': ['squared_error', 'friedman_mse'],\n",
    "          'max_depth': [None, 3, 5],\n",
    "          'bootstrap': [True, False],\n",
    "          'n_jobs': [-1],\n",
    "          'random_state': [RANDOM_STATE]}\n",
    "cv_res, model, params = data_explorer.model_fitting(model_name='RandomForest',\n",
    "                                                    features=X_train,\n",
    "                                                    labels=y_train,\n",
    "                                                    params=params,\n",
    "                                                    cv=4)"
   ]
  },
  {
   "cell_type": "markdown",
   "id": "293da105-7e4d-4184-9504-d09eba640eb9",
   "metadata": {},
   "source": [
    "### CatBoost"
   ]
  },
  {
   "cell_type": "code",
   "execution_count": 14,
   "id": "4cd11e26-940b-4538-8d81-9ace0f7f2bd3",
   "metadata": {},
   "outputs": [
    {
     "name": "stdout",
     "output_type": "stream",
     "text": [
      "\n",
      "bestTest = 3863.351282\n",
      "bestIteration = 99\n",
      "\n",
      "0:\tloss: 3863.3512819\tbest: 3863.3512819 (0)\ttotal: 321ms\tremaining: 4.81s\n",
      "\n",
      "bestTest = 3232.654121\n",
      "bestIteration = 99\n",
      "\n",
      "1:\tloss: 3232.6541207\tbest: 3232.6541207 (1)\ttotal: 559ms\tremaining: 3.91s\n",
      "\n",
      "bestTest = 3864.033778\n",
      "bestIteration = 99\n",
      "\n",
      "2:\tloss: 3864.0337776\tbest: 3232.6541207 (1)\ttotal: 827ms\tremaining: 3.58s\n",
      "\n",
      "bestTest = 3243.236396\n",
      "bestIteration = 99\n",
      "\n",
      "3:\tloss: 3243.2363964\tbest: 3232.6541207 (1)\ttotal: 1.08s\tremaining: 3.24s\n",
      "\n",
      "bestTest = 3255.851674\n",
      "bestIteration = 299\n",
      "\n",
      "4:\tloss: 3255.8516745\tbest: 3232.6541207 (1)\ttotal: 1.78s\tremaining: 3.93s\n",
      "\n",
      "bestTest = 2958.849935\n",
      "bestIteration = 299\n",
      "\n",
      "5:\tloss: 2958.8499348\tbest: 2958.8499348 (5)\ttotal: 2.49s\tremaining: 4.14s\n",
      "\n",
      "bestTest = 3267.1275\n",
      "bestIteration = 299\n",
      "\n",
      "6:\tloss: 3267.1275000\tbest: 2958.8499348 (5)\ttotal: 3.2s\tremaining: 4.12s\n",
      "\n",
      "bestTest = 2974.545073\n",
      "bestIteration = 299\n",
      "\n",
      "7:\tloss: 2974.5450731\tbest: 2958.8499348 (5)\ttotal: 3.93s\tremaining: 3.93s\n",
      "\n",
      "bestTest = 3409.78264\n",
      "bestIteration = 99\n",
      "\n",
      "8:\tloss: 3409.7826401\tbest: 2958.8499348 (5)\ttotal: 4.41s\tremaining: 3.43s\n",
      "\n",
      "bestTest = 2953.55534\n",
      "bestIteration = 99\n",
      "\n",
      "9:\tloss: 2953.5553396\tbest: 2953.5553396 (9)\ttotal: 4.91s\tremaining: 2.94s\n",
      "\n",
      "bestTest = 3424.762783\n",
      "bestIteration = 99\n",
      "\n",
      "10:\tloss: 3424.7627831\tbest: 2953.5553396 (9)\ttotal: 5.39s\tremaining: 2.45s\n",
      "\n",
      "bestTest = 2968.779828\n",
      "bestIteration = 99\n",
      "\n",
      "11:\tloss: 2968.7798278\tbest: 2953.5553396 (9)\ttotal: 5.88s\tremaining: 1.96s\n",
      "\n",
      "bestTest = 2969.812674\n",
      "bestIteration = 299\n",
      "\n",
      "12:\tloss: 2969.8126739\tbest: 2953.5553396 (9)\ttotal: 7.3s\tremaining: 1.69s\n",
      "\n",
      "bestTest = 2784.250037\n",
      "bestIteration = 298\n",
      "\n",
      "13:\tloss: 2784.2500371\tbest: 2784.2500371 (13)\ttotal: 8.76s\tremaining: 1.25s\n",
      "\n",
      "bestTest = 2983.139445\n",
      "bestIteration = 299\n",
      "\n",
      "14:\tloss: 2983.1394452\tbest: 2784.2500371 (13)\ttotal: 10.3s\tremaining: 685ms\n",
      "\n",
      "bestTest = 2797.07418\n",
      "bestIteration = 299\n",
      "\n",
      "15:\tloss: 2797.0741804\tbest: 2784.2500371 (13)\ttotal: 11.8s\tremaining: 0us\n",
      "Estimating final quality...\n",
      "Training on fold [0/4]\n",
      "\n",
      "bestTest = 2776.215622\n",
      "bestIteration = 298\n",
      "\n",
      "Training on fold [1/4]\n",
      "\n",
      "bestTest = 2775.362134\n",
      "bestIteration = 299\n",
      "\n",
      "Training on fold [2/4]\n",
      "\n",
      "bestTest = 2838.801107\n",
      "bestIteration = 299\n",
      "\n",
      "Training on fold [3/4]\n",
      "\n",
      "bestTest = 2775.176168\n",
      "bestIteration = 295\n",
      "\n",
      "Лучший результат RMSE: 2791.434\n",
      "Лучшие гиперпараметры: {'depth': 8, 'learning_rate': 0.1, 'l2_leaf_reg': 1, 'iterations': 300}\n"
     ]
    }
   ],
   "source": [
    "params = {'iterations': [100, 300],\n",
    "          'learning_rate': [0.03, 0.1],\n",
    "          'depth': [4, 8],\n",
    "          'l2_leaf_reg': [1, 5]}\n",
    "cv_res, model, params = data_explorer.model_fitting(model_name='CatBoost',\n",
    "                                                    features=X_train,\n",
    "                                                    labels=y_train,\n",
    "                                                    params=params,\n",
    "                                                    cv=4)"
   ]
  },
  {
   "cell_type": "markdown",
   "id": "4991d766-409d-46ad-827e-e578b9d4a819",
   "metadata": {},
   "source": [
    "Логирование модели и метрик"
   ]
  },
  {
   "cell_type": "code",
   "execution_count": 77,
   "id": "80b91743-6c33-4996-ae8b-2d3abacda657",
   "metadata": {},
   "outputs": [
    {
     "name": "stderr",
     "output_type": "stream",
     "text": [
      "/home/denis/Documents/main_venv/vin_codes/.env_vin/lib/python3.10/site-packages/_distutils_hack/__init__.py:11: UserWarning: Distutils was imported before Setuptools, but importing Setuptools also replaces the `distutils` module in `sys.modules`. This may lead to undesirable behaviors or errors. To avoid these issues, avoid using distutils directly, ensure that setuptools is installed in the traditional way (e.g. not an editable install), and/or make sure that setuptools is always imported before distutils.\n",
      "  warnings.warn(\n",
      "/home/denis/Documents/main_venv/vin_codes/.env_vin/lib/python3.10/site-packages/_distutils_hack/__init__.py:26: UserWarning: Setuptools is replacing distutils.\n",
      "  warnings.warn(\"Setuptools is replacing distutils.\")\n",
      "Successfully registered model 'catboost'.\n",
      "2024/04/22 12:33:41 INFO mlflow.store.model_registry.abstract_store: Waiting up to 60 seconds for model version to finish creation. Model name: catboost, version 1\n",
      "Created version '1' of model 'catboost'.\n"
     ]
    }
   ],
   "source": [
    "metadata = {\n",
    "    'author': 'denis_zeit',\n",
    "    'training_date': '2024-04-22',\n",
    "    'data_used': 'wo_test_data',\n",
    "    'library_versions': {'mlflow': '2.11.3',\n",
    "                         'scikit-learn': '1.4.2',\n",
    "                         'catboost': '1.2.5'}\n",
    "}\n",
    "\n",
    "data_explorer.model_logging(experiment_name=EXPERIMENT_NAME,\n",
    "                            run_name=RUN_NAME[3],\n",
    "                            registry_model=REGISTRY_MODEL_NAME[3],\n",
    "                            params=params,\n",
    "                            metrics=cv_res,\n",
    "                            model=model,\n",
    "                            train_data=X_train,\n",
    "                            train_label=y_train,\n",
    "                            metadata=metadata,\n",
    "                            code_paths=['decoding_vin_codes.ipynb', 'research_class.py'],\n",
    "                            tsh=TRACKING_SERVER_HOST,\n",
    "                            tsp=TRACKING_SERVER_PORT,\n",
    "                            assets_dir=ASSETS_DIR)"
   ]
  },
  {
   "cell_type": "markdown",
   "id": "e6efe729-8daf-4519-bf39-66ed3050896a",
   "metadata": {},
   "source": [
    "### Выводы и наблюдения\n",
    "- в качестве `baseline` принята модель линейной регрессии с гиперпараметрами по умолчанию;\n",
    "- обучена модель линейной регрессии с подбором гиперпараметров по сетке;\n",
    "- обучена модель случайного леса с подбором гиперпараметров по сетке;\n",
    "- обучена модель градиентного бустинга с подбором гиперпараметров по сетке;\n",
    "- все модели с подобранными параметрами и метриками залогированы."
   ]
  },
  {
   "cell_type": "markdown",
   "id": "abfbe512-2a4c-4cab-a107-13e681201129",
   "metadata": {},
   "source": [
    "## Выбор лучшей модели"
   ]
  },
  {
   "cell_type": "code",
   "execution_count": 15,
   "id": "57178ce6-74d6-479c-948e-1ffe3cb1b4a8",
   "metadata": {},
   "outputs": [
    {
     "name": "stdout",
     "output_type": "stream",
     "text": [
      "Находящиеся в базе таблицы:\n"
     ]
    },
    {
     "data": {
      "text/html": [
       "<div>\n",
       "<style scoped>\n",
       "    .dataframe tbody tr th:only-of-type {\n",
       "        vertical-align: middle;\n",
       "    }\n",
       "\n",
       "    .dataframe tbody tr th {\n",
       "        vertical-align: top;\n",
       "    }\n",
       "\n",
       "    .dataframe thead th {\n",
       "        text-align: right;\n",
       "    }\n",
       "</style>\n",
       "<table border=\"1\" class=\"dataframe\">\n",
       "  <thead>\n",
       "    <tr style=\"text-align: right;\">\n",
       "      <th></th>\n",
       "      <th>table_name</th>\n",
       "      <th>number_of_rows</th>\n",
       "    </tr>\n",
       "  </thead>\n",
       "  <tbody>\n",
       "    <tr>\n",
       "      <th>0</th>\n",
       "      <td>experiments</td>\n",
       "      <td>2</td>\n",
       "    </tr>\n",
       "    <tr>\n",
       "      <th>1</th>\n",
       "      <td>tags</td>\n",
       "      <td>20</td>\n",
       "    </tr>\n",
       "    <tr>\n",
       "      <th>2</th>\n",
       "      <td>params</td>\n",
       "      <td>18</td>\n",
       "    </tr>\n",
       "    <tr>\n",
       "      <th>3</th>\n",
       "      <td>metrics</td>\n",
       "      <td>18</td>\n",
       "    </tr>\n",
       "    <tr>\n",
       "      <th>4</th>\n",
       "      <td>runs</td>\n",
       "      <td>4</td>\n",
       "    </tr>\n",
       "    <tr>\n",
       "      <th>5</th>\n",
       "      <td>alembic_version</td>\n",
       "      <td>1</td>\n",
       "    </tr>\n",
       "    <tr>\n",
       "      <th>6</th>\n",
       "      <td>experiment_tags</td>\n",
       "      <td>0</td>\n",
       "    </tr>\n",
       "    <tr>\n",
       "      <th>7</th>\n",
       "      <td>latest_metrics</td>\n",
       "      <td>18</td>\n",
       "    </tr>\n",
       "    <tr>\n",
       "      <th>8</th>\n",
       "      <td>registered_models</td>\n",
       "      <td>4</td>\n",
       "    </tr>\n",
       "    <tr>\n",
       "      <th>9</th>\n",
       "      <td>registered_model_tags</td>\n",
       "      <td>0</td>\n",
       "    </tr>\n",
       "    <tr>\n",
       "      <th>10</th>\n",
       "      <td>model_version_tags</td>\n",
       "      <td>0</td>\n",
       "    </tr>\n",
       "    <tr>\n",
       "      <th>11</th>\n",
       "      <td>registered_model_aliases</td>\n",
       "      <td>0</td>\n",
       "    </tr>\n",
       "    <tr>\n",
       "      <th>12</th>\n",
       "      <td>datasets</td>\n",
       "      <td>0</td>\n",
       "    </tr>\n",
       "    <tr>\n",
       "      <th>13</th>\n",
       "      <td>inputs</td>\n",
       "      <td>0</td>\n",
       "    </tr>\n",
       "    <tr>\n",
       "      <th>14</th>\n",
       "      <td>input_tags</td>\n",
       "      <td>0</td>\n",
       "    </tr>\n",
       "    <tr>\n",
       "      <th>15</th>\n",
       "      <td>model_versions</td>\n",
       "      <td>4</td>\n",
       "    </tr>\n",
       "  </tbody>\n",
       "</table>\n",
       "</div>"
      ],
      "text/plain": [
       "                  table_name  number_of_rows\n",
       "0                experiments               2\n",
       "1                       tags              20\n",
       "2                     params              18\n",
       "3                    metrics              18\n",
       "4                       runs               4\n",
       "5            alembic_version               1\n",
       "6            experiment_tags               0\n",
       "7             latest_metrics              18\n",
       "8          registered_models               4\n",
       "9      registered_model_tags               0\n",
       "10        model_version_tags               0\n",
       "11  registered_model_aliases               0\n",
       "12                  datasets               0\n",
       "13                    inputs               0\n",
       "14                input_tags               0\n",
       "15            model_versions               4"
      ]
     },
     "metadata": {},
     "output_type": "display_data"
    },
    {
     "name": "stdout",
     "output_type": "stream",
     "text": [
      "Модели и их метрики:\n"
     ]
    },
    {
     "data": {
      "text/html": [
       "<div>\n",
       "<style scoped>\n",
       "    .dataframe tbody tr th:only-of-type {\n",
       "        vertical-align: middle;\n",
       "    }\n",
       "\n",
       "    .dataframe tbody tr th {\n",
       "        vertical-align: top;\n",
       "    }\n",
       "\n",
       "    .dataframe thead th {\n",
       "        text-align: right;\n",
       "    }\n",
       "</style>\n",
       "<table border=\"1\" class=\"dataframe\">\n",
       "  <thead>\n",
       "    <tr style=\"text-align: right;\">\n",
       "      <th></th>\n",
       "      <th>model_name</th>\n",
       "      <th>version</th>\n",
       "      <th>mse</th>\n",
       "      <th>r2</th>\n",
       "      <th>mae</th>\n",
       "      <th>mape</th>\n",
       "      <th>run_uuid</th>\n",
       "    </tr>\n",
       "  </thead>\n",
       "  <tbody>\n",
       "    <tr>\n",
       "      <th>0</th>\n",
       "      <td>catboost</td>\n",
       "      <td>1</td>\n",
       "      <td>2.791434e+03</td>\n",
       "      <td>0.881</td>\n",
       "      <td>1898.950</td>\n",
       "      <td>0.200</td>\n",
       "      <td>7642fc590c9e4622873d6a39a4ec049d</td>\n",
       "    </tr>\n",
       "    <tr>\n",
       "      <th>1</th>\n",
       "      <td>rendom_forest</td>\n",
       "      <td>1</td>\n",
       "      <td>1.680098e+07</td>\n",
       "      <td>0.725</td>\n",
       "      <td>2907.040</td>\n",
       "      <td>0.337</td>\n",
       "      <td>e6895207e058469fbcf64ed37c2bdce3</td>\n",
       "    </tr>\n",
       "    <tr>\n",
       "      <th>2</th>\n",
       "      <td>baseline</td>\n",
       "      <td>1</td>\n",
       "      <td>3.047539e+07</td>\n",
       "      <td>0.502</td>\n",
       "      <td>4035.195</td>\n",
       "      <td>0.581</td>\n",
       "      <td>3175f099d12941c3b1185f9675a15939</td>\n",
       "    </tr>\n",
       "    <tr>\n",
       "      <th>3</th>\n",
       "      <td>linear_regression</td>\n",
       "      <td>1</td>\n",
       "      <td>1.362302e+08</td>\n",
       "      <td>-1.228</td>\n",
       "      <td>9386.676</td>\n",
       "      <td>1.069</td>\n",
       "      <td>35f3d37e332e4b5791a5ad0ff3c0e919</td>\n",
       "    </tr>\n",
       "  </tbody>\n",
       "</table>\n",
       "</div>"
      ],
      "text/plain": [
       "          model_name  version           mse     r2       mae   mape  \\\n",
       "0           catboost        1  2.791434e+03  0.881  1898.950  0.200   \n",
       "1      rendom_forest        1  1.680098e+07  0.725  2907.040  0.337   \n",
       "2           baseline        1  3.047539e+07  0.502  4035.195  0.581   \n",
       "3  linear_regression        1  1.362302e+08 -1.228  9386.676  1.069   \n",
       "\n",
       "                           run_uuid  \n",
       "0  7642fc590c9e4622873d6a39a4ec049d  \n",
       "1  e6895207e058469fbcf64ed37c2bdce3  \n",
       "2  3175f099d12941c3b1185f9675a15939  \n",
       "3  35f3d37e332e4b5791a5ad0ff3c0e919  "
      ]
     },
     "metadata": {},
     "output_type": "display_data"
    }
   ],
   "source": [
    "connection.update(postgres_credentials)\n",
    "with psycopg.connect(**connection) as conn:\n",
    "    with conn.cursor() as cur:\n",
    "        cur.execute(f\"SELECT table_name FROM information_schema.tables WHERE table_schema='public'\")\n",
    "        table_data = []\n",
    "        for table_name in cur.fetchall():\n",
    "            cur.execute(f\"SELECT COUNT(*) FROM {table_name[0]}\")\n",
    "            table_data.append((table_name[0], cur.fetchone()[0]))\n",
    "        print('Находящиеся в базе таблицы:')\n",
    "        display(pd.DataFrame(table_data, columns=['table_name', 'number_of_rows']))\n",
    "\n",
    "        cur.execute(\"\"\"\n",
    "                       SELECT \n",
    "                         COALESCE(model_versions.name, 'baseline') AS model_name,\n",
    "                         model_versions.version,\n",
    "                         MAX(CASE WHEN metrics.key = 'test_neg_mean_squared_error' THEN metrics.value END) AS mse,\n",
    "                         MAX(CASE WHEN metrics.key = 'test_r2' THEN metrics.value END) AS r2,\n",
    "                         MAX(CASE WHEN metrics.key = 'test_neg_mean_absolute_error' THEN metrics.value END) AS mae,\n",
    "                         MAX(CASE WHEN metrics.key = 'test_neg_mean_absolute_percentage_error' THEN metrics.value END) AS mape,\n",
    "                         metrics.run_uuid\n",
    "                       FROM metrics\n",
    "                         LEFT JOIN model_versions ON model_versions.run_id=metrics.run_uuid\n",
    "                       WHERE metrics.key NOT IN ('fit_time', 'score_time')\n",
    "                       GROUP BY COALESCE(model_versions.name, 'baseline'), model_versions.version, metrics.run_uuid\n",
    "                       ORDER BY mse\n",
    "                       \"\"\")\n",
    "        table_data = cur.fetchall()\n",
    "        table_columns = [desc[0] for desc in cur.description]\n",
    "        print('Модели и их метрики:')\n",
    "        display(pd.DataFrame(table_data, columns=table_columns))"
   ]
  },
  {
   "cell_type": "markdown",
   "id": "fcb18578-1826-4230-8b72-2380c2461b04",
   "metadata": {},
   "source": [
    "### Выводы и наблюдения\n",
    "- лучшие результаты на валидации показала модель `CatBoostRegressor`"
   ]
  },
  {
   "cell_type": "markdown",
   "id": "95dcf578-bc47-4c25-934e-d6460f21daa7",
   "metadata": {},
   "source": [
    "## Тестирование модели на отложенной выборке"
   ]
  },
  {
   "cell_type": "code",
   "execution_count": 16,
   "id": "8e26bc5c-3006-46c6-a81e-14bb282bee5f",
   "metadata": {},
   "outputs": [
    {
     "name": "stdout",
     "output_type": "stream",
     "text": [
      "MSE лучшей модели на отложенной выборке: 17631685.118\n",
      "MAE лучшей модели на отложенной выборке: 3028.507\n",
      "R2 лучшей модели на отложенной выборке: 0.714\n",
      "MAPE лучшей модели на отложенной выборке: 0.338\n"
     ]
    }
   ],
   "source": [
    "data_explorer.model_testing(model=model, test_features=X_test, test_labels=y_test)"
   ]
  },
  {
   "cell_type": "markdown",
   "id": "942e6260-ed64-44b2-9b9c-d04c4d30124e",
   "metadata": {},
   "source": [
    "### Выводы и наблюдения\n",
    "- произведено тестирование лучшей модели на отложенной выборке;\n",
    "- по результатам тестирования можно предположить, что переобучения модели не произошло,\n",
    "  <br>дальнейших доработок модели на данном этапе не требуется."
   ]
  },
  {
   "cell_type": "markdown",
   "id": "0723e823-e9ea-4e22-8806-e8e13356a6a4",
   "metadata": {},
   "source": [
    "## Проверка важности признаков"
   ]
  },
  {
   "cell_type": "code",
   "execution_count": 17,
   "id": "940ad89e-50c0-4c10-82ed-d49cedc61226",
   "metadata": {},
   "outputs": [
    {
     "data": {
      "image/png": "[encoded data removed]",
      "text/plain": [
       "<Figure size 1400x500 with 2 Axes>"
      ]
     },
     "metadata": {},
     "output_type": "display_data"
    }
   ],
   "source": [
    "data_explorer.feature_importance(model=model, features=X_test, assets_dir=None)"
   ]
  },
  {
   "cell_type": "markdown",
   "id": "9af94a23-cc15-46bf-949b-98933303fe05",
   "metadata": {},
   "source": [
    "### Выводы и наблюдения\n",
    "- наиболее важными признаками для прогнозирования цены выделены:\n",
    "  - год производства автомобиля;\n",
    "  - завод-производитель автомобиля;\n",
    "  - кузов автомобиля"
   ]
  },
  {
   "cell_type": "markdown",
   "id": "031fcbe6-e080-4c18-92e4-f9bfadee08cd",
   "metadata": {},
   "source": [
    "## Отчёт по проведённому исследованию\n",
    "**Загрузка данных и ознакомление с ними**\n",
    "\n",
    "Выполнено\n",
    "\n",
    "- данные загружены и изучены;\n",
    "- составлено общее представление о необходимых действяих для обработки.\n",
    "\n",
    "**Подготовка паттерна для парсинга данных**\n",
    "\n",
    "Выполнено\n",
    "\n",
    "- паттерн подготовлен и протестирован.\n",
    "\n",
    "**Исследовательский анализ данных**\n",
    "\n",
    "Выполнено\n",
    "\n",
    "- исследованы общие параметры датафрейма, наличие дубликатов, типы признаков;\n",
    "- исследована целевая переменная;\n",
    "- изучены зависимости между признаками.\n",
    "\n",
    "**Подготовка данных для обучения моделей**\n",
    "\n",
    "Выполнено\n",
    "\n",
    "- произведено разделение данных на обучающую и тестовую выборки;\n",
    "- признаки в выборках закодированы и масштабированы.\n",
    "\n",
    "**Обучение моделей**\n",
    "\n",
    "Выполнено\n",
    "\n",
    "Обучены и оценены модели:\n",
    "\n",
    "- `Linear Regression` без подбора гиперпараметров - в качестве `baseline`;\n",
    "- `Linear Regression` с подбором гиперпараметров `GridSearch`;\n",
    "- `Random Forest Regressor` с подбором гиперпараметров `GridSearch`;\n",
    "- `CatBoost Regressor` с подбором гиперпараметров `GridSearch`.\n",
    "\n",
    "**Выбор лучшей модели**\n",
    "\n",
    "Выполнено\n",
    "\n",
    "- по метрике `MSE` лучший результат на валидации показала модель `CatBoost Regressor`\n",
    "\n",
    "**Тестирование модели**\n",
    "\n",
    "Выполнено\n",
    "\n",
    "- проверка на тестовой выборке показала адекватность обучения модели\n",
    "\n",
    "**Анализ важности признаков лучшей модели**\n",
    "\n",
    "Выполнено\n",
    "\n",
    "Наиболее важными признаками для прогнозирования цены выделены:\n",
    "- год производства автомобиля;\n",
    "- завод-производитель автомобиля;\n",
    "- кузов автомобиля\n",
    "\n",
    "**Дополнительно**\n",
    "- поднята база PostgreSQL для хранения метрик и параметров моделей;\n",
    "- поднят MLflow server для логирования моделей, параметров и метрик.\n",
    "\n",
    "**Общий итог: для выполнения поставленной задачи наиболее подходящей моделью оказалась модель градиентного бустинга `CatBoost`**"
   ]
  }
 ],
 "metadata": {
  "kernelspec": {
   "display_name": "Python 3 (ipykernel)",
   "language": "python",
   "name": "python3"
  },
  "language_info": {
   "codemirror_mode": {
    "name": "ipython",
    "version": 3
   },
   "file_extension": ".py",
   "mimetype": "text/x-python",
   "name": "python",
   "nbconvert_exporter": "python",
   "pygments_lexer": "ipython3",
   "version": "3.10.12"
  }
 },
 "nbformat": 4,
 "nbformat_minor": 5
}
